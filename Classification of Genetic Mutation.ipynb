{
 "cells": [
  {
   "cell_type": "markdown",
   "metadata": {},
   "source": [
    "# Table of Contents\n",
    "1. [Reading the Training variants data](#readvar) <br>\n",
    "2. [Reading the Training text data (Text contains medical literature)](#readtext) <br>\n",
    "3. [Exploratory Data Analysis](#eda) <br>\n",
    "4. [Pre-processing of Medical Text](#pre) <br>\n",
    "5. [Splitting the data into Train and Test](#tts) <br>\n",
    "6. [Encoding Medical Text](#enc) <br>\n",
    "   6.1. [Bag of Words Encoding](#bow) <br>\n",
    "   6.2. [TFIDF Encoding](#tfidf) <br>\n",
    "7. [One Hot Encoding of Categorical features](#ohe) <br>\n",
    "   7.1. [One Hot Encoding of GENE feature](#ohegene) <br>\n",
    "   7.2. [One Hot Encoding of VARIATION feature](#ohevar) <br>\n",
    "8. [Concatenating all features](#concat) <br>\n",
    "   8.1. [Concatenating for Bag of Words](#concatbow) <br>\n",
    "   8.2. [Concatenating for TF-IDF](#concattfidf) <br>\n",
    "9. <b>[Applying Naive Bayes](#nb) </b><br>\n",
    "   9.1. [Set-1: preprocessed_medical_text (BoW) + categorical feature (GENE) + categorical feature (VARIATION)](#nbset1)<br>\n",
    "   9.2. [Set-2: preprocessed_medical_text (TFIDF) + categorical feature (GENE) + categorical feature (VARIATION)](#nbset2)<br>\n",
    "10. <b>[Applying k-NN](#k-NN)</b> <br>\n",
    "    10.1. [Set-1: preprocessed_medical_text (BoW) + categorical feature (GENE) + categorical feature (VARIATION)](#knnset1)<br>\n",
    "    10.2. [Set-2: preprocessed_medical_text (TFIDF) + categorical feature (GENE) + categorical feature (VARIATION)](#knnset1)<br>\n",
    "11. <b>[Applying Logistic Regression](#lr)</b> <br>\n",
    "    11.1. [Set-1: preprocessed_medical_text (BoW) + categorical feature (GENE) + categorical feature (VARIATION)](#lrset1)<br>\n",
    "    11.2. [Set-2: preprocessed_medical_text (TFIDF) + categorical feature (GENE) + categorical feature (VARIATION)](#lrset2)<br>\n",
    "12. <b>[Applying Random Forest](#rf)</b> <br>\n",
    "    12.1. [Set-1: preprocessed_medical_text (BoW) + categorical feature (GENE) + categorical feature (VARIATION)](#rfset1)<br>\n",
    "    12.2. [Set-2: preprocessed_medical_text (TFIDF) + categorical feature (GENE) + categorical feature (VARIATION)](#rfset2)<br>\n",
    "13. <b>[Conclusion](#con)<b>"
   ]
  },
  {
   "cell_type": "markdown",
   "metadata": {},
   "source": [
    "**Notes**:\n",
    "\n",
    "Once a patient seems to have some form of cancer. They take the tumor, they sequence the cancer tumor (genetic sequencing) -> you get the gene mutations. Mutation is basically small changes in the gene which can corrupt the genetic code causing cancer. NOT ALL MUTATION CAUSE CANCER."
   ]
  },
  {
   "cell_type": "markdown",
   "metadata": {},
   "source": [
    "**Genetic Variation** = gene (categorical random variable) + variation (categorical random variable) that happens on a gene"
   ]
  },
  {
   "cell_type": "markdown",
   "metadata": {},
   "source": [
    "**Steps**:\n",
    "    \n",
    "1. Molecular Pathologists select a gene and a variation.\n",
    "2. Collect all the research work (Medical literature) that has ever been done on that perticular gene and its variation.\n",
    "3. MP (Domain Expert) spends huge amount of text reading the text -> Then they finally determine which class this gene and variation belong to. \n",
    "\n",
    "**(Step3 : This is the most time consuming part)**\n",
    "    "
   ]
  },
  {
   "cell_type": "markdown",
   "metadata": {},
   "source": [
    "- We have two data files: one contains the information about the genetic mutations and the other contains the clinical evidence (text) that human experts/pathologists use to classify the genetic mutations.\n",
    "- Both these data files are have a common column called ID\n",
    "- Data file's information:\n",
    " - training_variants (ID , Gene, Variations, Class)\n",
    " - training_text (ID, Text)"
   ]
  },
  {
   "cell_type": "code",
   "execution_count": 1,
   "metadata": {},
   "outputs": [],
   "source": [
    "#importing the usual libraries\n",
    "import numpy as np\n",
    "import pandas as pd\n",
    "import matplotlib.pyplot as plt\n",
    "import seaborn as sns"
   ]
  },
  {
   "cell_type": "markdown",
   "metadata": {},
   "source": [
    "# 1. Reading the Training variants data\n",
    "\n",
    "<a id='readvar'></a>"
   ]
  },
  {
   "cell_type": "code",
   "execution_count": 2,
   "metadata": {},
   "outputs": [],
   "source": [
    "data_train_var = pd.read_csv('Dataset/training_variants')\n",
    "\n",
    "#saving the dataframe \n",
    "data_train_var.to_csv('training_variants.csv') "
   ]
  },
  {
   "cell_type": "code",
   "execution_count": 3,
   "metadata": {},
   "outputs": [
    {
     "name": "stdout",
     "output_type": "stream",
     "text": [
      "Shape of training variants:  (3321, 4)\n",
      "No. of rows in Training variants:  3321\n",
      "No. of columns in Training variants:  4\n"
     ]
    }
   ],
   "source": [
    "print('Shape of training variants: ', data_train_var.shape)\n",
    "print('No. of rows in Training variants: ', data_train_var.shape[0])\n",
    "print('No. of columns in Training variants: ', data_train_var.shape[1])"
   ]
  },
  {
   "cell_type": "code",
   "execution_count": 4,
   "metadata": {},
   "outputs": [
    {
     "name": "stdout",
     "output_type": "stream",
     "text": [
      "Features of the dataset include:  ['ID' 'Gene' 'Variation' 'Class']\n"
     ]
    }
   ],
   "source": [
    "print('Features of the dataset include: ', data_train_var.columns.values)"
   ]
  },
  {
   "cell_type": "code",
   "execution_count": 5,
   "metadata": {},
   "outputs": [
    {
     "data": {
      "text/html": [
       "<div>\n",
       "<style scoped>\n",
       "    .dataframe tbody tr th:only-of-type {\n",
       "        vertical-align: middle;\n",
       "    }\n",
       "\n",
       "    .dataframe tbody tr th {\n",
       "        vertical-align: top;\n",
       "    }\n",
       "\n",
       "    .dataframe thead th {\n",
       "        text-align: right;\n",
       "    }\n",
       "</style>\n",
       "<table border=\"1\" class=\"dataframe\">\n",
       "  <thead>\n",
       "    <tr style=\"text-align: right;\">\n",
       "      <th></th>\n",
       "      <th>ID</th>\n",
       "      <th>Gene</th>\n",
       "      <th>Variation</th>\n",
       "      <th>Class</th>\n",
       "    </tr>\n",
       "  </thead>\n",
       "  <tbody>\n",
       "    <tr>\n",
       "      <th>0</th>\n",
       "      <td>0</td>\n",
       "      <td>FAM58A</td>\n",
       "      <td>Truncating Mutations</td>\n",
       "      <td>1</td>\n",
       "    </tr>\n",
       "    <tr>\n",
       "      <th>1</th>\n",
       "      <td>1</td>\n",
       "      <td>CBL</td>\n",
       "      <td>W802*</td>\n",
       "      <td>2</td>\n",
       "    </tr>\n",
       "    <tr>\n",
       "      <th>2</th>\n",
       "      <td>2</td>\n",
       "      <td>CBL</td>\n",
       "      <td>Q249E</td>\n",
       "      <td>2</td>\n",
       "    </tr>\n",
       "    <tr>\n",
       "      <th>3</th>\n",
       "      <td>3</td>\n",
       "      <td>CBL</td>\n",
       "      <td>N454D</td>\n",
       "      <td>3</td>\n",
       "    </tr>\n",
       "    <tr>\n",
       "      <th>4</th>\n",
       "      <td>4</td>\n",
       "      <td>CBL</td>\n",
       "      <td>L399V</td>\n",
       "      <td>4</td>\n",
       "    </tr>\n",
       "    <tr>\n",
       "      <th>5</th>\n",
       "      <td>5</td>\n",
       "      <td>CBL</td>\n",
       "      <td>V391I</td>\n",
       "      <td>4</td>\n",
       "    </tr>\n",
       "    <tr>\n",
       "      <th>6</th>\n",
       "      <td>6</td>\n",
       "      <td>CBL</td>\n",
       "      <td>V430M</td>\n",
       "      <td>5</td>\n",
       "    </tr>\n",
       "    <tr>\n",
       "      <th>7</th>\n",
       "      <td>7</td>\n",
       "      <td>CBL</td>\n",
       "      <td>Deletion</td>\n",
       "      <td>1</td>\n",
       "    </tr>\n",
       "    <tr>\n",
       "      <th>8</th>\n",
       "      <td>8</td>\n",
       "      <td>CBL</td>\n",
       "      <td>Y371H</td>\n",
       "      <td>4</td>\n",
       "    </tr>\n",
       "    <tr>\n",
       "      <th>9</th>\n",
       "      <td>9</td>\n",
       "      <td>CBL</td>\n",
       "      <td>C384R</td>\n",
       "      <td>4</td>\n",
       "    </tr>\n",
       "  </tbody>\n",
       "</table>\n",
       "</div>"
      ],
      "text/plain": [
       "   ID    Gene             Variation  Class\n",
       "0   0  FAM58A  Truncating Mutations      1\n",
       "1   1     CBL                 W802*      2\n",
       "2   2     CBL                 Q249E      2\n",
       "3   3     CBL                 N454D      3\n",
       "4   4     CBL                 L399V      4\n",
       "5   5     CBL                 V391I      4\n",
       "6   6     CBL                 V430M      5\n",
       "7   7     CBL              Deletion      1\n",
       "8   8     CBL                 Y371H      4\n",
       "9   9     CBL                 C384R      4"
      ]
     },
     "execution_count": 5,
     "metadata": {},
     "output_type": "execute_result"
    }
   ],
   "source": [
    "#printing the top 10 rows\n",
    "data_train_var.head(10)"
   ]
  },
  {
   "cell_type": "markdown",
   "metadata": {},
   "source": [
    "# 2. Reading the Training text data (Text contains medical literature)\n",
    "\n",
    "<a id='readtext'></a>"
   ]
  },
  {
   "cell_type": "code",
   "execution_count": 6,
   "metadata": {},
   "outputs": [],
   "source": [
    "#sep = '\\|\\|' ->\n",
    "#If you look at the OG train_text file. The separator is not , (as it should be)\n",
    "#It is ||. \n",
    "#EG: ID||Text\n",
    "\n",
    "data_train_text = pd.read_csv('Dataset/training_text', sep=\"\\|\\|\", engine='python', names=[\"ID\",\"Text\"], skiprows=1)\n",
    "\n",
    "#saving the dataframe \n",
    "data_train_text.to_csv('training_text.csv') "
   ]
  },
  {
   "cell_type": "code",
   "execution_count": 7,
   "metadata": {},
   "outputs": [
    {
     "name": "stdout",
     "output_type": "stream",
     "text": [
      "Shape of training text:  (3321, 2)\n",
      "No. of rows in Training text:  3321\n",
      "No. of columns in Training text:  2\n"
     ]
    }
   ],
   "source": [
    "print('Shape of training text: ', data_train_text.shape)\n",
    "print('No. of rows in Training text: ', data_train_text.shape[0])\n",
    "print('No. of columns in Training text: ', data_train_text.shape[1])"
   ]
  },
  {
   "cell_type": "code",
   "execution_count": 8,
   "metadata": {},
   "outputs": [
    {
     "name": "stdout",
     "output_type": "stream",
     "text": [
      "Features of the dataset include:  ['ID' 'Text']\n"
     ]
    }
   ],
   "source": [
    "print('Features of the dataset include: ', data_train_text.columns.values)"
   ]
  },
  {
   "cell_type": "code",
   "execution_count": 9,
   "metadata": {},
   "outputs": [
    {
     "data": {
      "text/html": [
       "<div>\n",
       "<style scoped>\n",
       "    .dataframe tbody tr th:only-of-type {\n",
       "        vertical-align: middle;\n",
       "    }\n",
       "\n",
       "    .dataframe tbody tr th {\n",
       "        vertical-align: top;\n",
       "    }\n",
       "\n",
       "    .dataframe thead th {\n",
       "        text-align: right;\n",
       "    }\n",
       "</style>\n",
       "<table border=\"1\" class=\"dataframe\">\n",
       "  <thead>\n",
       "    <tr style=\"text-align: right;\">\n",
       "      <th></th>\n",
       "      <th>ID</th>\n",
       "      <th>Text</th>\n",
       "    </tr>\n",
       "  </thead>\n",
       "  <tbody>\n",
       "    <tr>\n",
       "      <th>0</th>\n",
       "      <td>0</td>\n",
       "      <td>Cyclin-dependent kinases (CDKs) regulate a var...</td>\n",
       "    </tr>\n",
       "    <tr>\n",
       "      <th>1</th>\n",
       "      <td>1</td>\n",
       "      <td>Abstract Background  Non-small cell lung canc...</td>\n",
       "    </tr>\n",
       "    <tr>\n",
       "      <th>2</th>\n",
       "      <td>2</td>\n",
       "      <td>Abstract Background  Non-small cell lung canc...</td>\n",
       "    </tr>\n",
       "    <tr>\n",
       "      <th>3</th>\n",
       "      <td>3</td>\n",
       "      <td>Recent evidence has demonstrated that acquired...</td>\n",
       "    </tr>\n",
       "    <tr>\n",
       "      <th>4</th>\n",
       "      <td>4</td>\n",
       "      <td>Oncogenic mutations in the monomeric Casitas B...</td>\n",
       "    </tr>\n",
       "    <tr>\n",
       "      <th>5</th>\n",
       "      <td>5</td>\n",
       "      <td>Oncogenic mutations in the monomeric Casitas B...</td>\n",
       "    </tr>\n",
       "    <tr>\n",
       "      <th>6</th>\n",
       "      <td>6</td>\n",
       "      <td>Oncogenic mutations in the monomeric Casitas B...</td>\n",
       "    </tr>\n",
       "    <tr>\n",
       "      <th>7</th>\n",
       "      <td>7</td>\n",
       "      <td>CBL is a negative regulator of activated recep...</td>\n",
       "    </tr>\n",
       "    <tr>\n",
       "      <th>8</th>\n",
       "      <td>8</td>\n",
       "      <td>Abstract Juvenile myelomonocytic leukemia (JM...</td>\n",
       "    </tr>\n",
       "    <tr>\n",
       "      <th>9</th>\n",
       "      <td>9</td>\n",
       "      <td>Abstract Juvenile myelomonocytic leukemia (JM...</td>\n",
       "    </tr>\n",
       "  </tbody>\n",
       "</table>\n",
       "</div>"
      ],
      "text/plain": [
       "   ID                                               Text\n",
       "0   0  Cyclin-dependent kinases (CDKs) regulate a var...\n",
       "1   1   Abstract Background  Non-small cell lung canc...\n",
       "2   2   Abstract Background  Non-small cell lung canc...\n",
       "3   3  Recent evidence has demonstrated that acquired...\n",
       "4   4  Oncogenic mutations in the monomeric Casitas B...\n",
       "5   5  Oncogenic mutations in the monomeric Casitas B...\n",
       "6   6  Oncogenic mutations in the monomeric Casitas B...\n",
       "7   7  CBL is a negative regulator of activated recep...\n",
       "8   8   Abstract Juvenile myelomonocytic leukemia (JM...\n",
       "9   9   Abstract Juvenile myelomonocytic leukemia (JM..."
      ]
     },
     "execution_count": 9,
     "metadata": {},
     "output_type": "execute_result"
    }
   ],
   "source": [
    "#printing the top 10 rows\n",
    "data_train_text.head(10)"
   ]
  },
  {
   "cell_type": "code",
   "execution_count": 10,
   "metadata": {},
   "outputs": [
    {
     "data": {
      "text/html": [
       "<div>\n",
       "<style scoped>\n",
       "    .dataframe tbody tr th:only-of-type {\n",
       "        vertical-align: middle;\n",
       "    }\n",
       "\n",
       "    .dataframe tbody tr th {\n",
       "        vertical-align: top;\n",
       "    }\n",
       "\n",
       "    .dataframe thead th {\n",
       "        text-align: right;\n",
       "    }\n",
       "</style>\n",
       "<table border=\"1\" class=\"dataframe\">\n",
       "  <thead>\n",
       "    <tr style=\"text-align: right;\">\n",
       "      <th></th>\n",
       "      <th>ID</th>\n",
       "      <th>Gene</th>\n",
       "      <th>Variation</th>\n",
       "      <th>Class</th>\n",
       "      <th>Text</th>\n",
       "    </tr>\n",
       "  </thead>\n",
       "  <tbody>\n",
       "    <tr>\n",
       "      <th>0</th>\n",
       "      <td>0</td>\n",
       "      <td>FAM58A</td>\n",
       "      <td>Truncating Mutations</td>\n",
       "      <td>1</td>\n",
       "      <td>Cyclin-dependent kinases (CDKs) regulate a var...</td>\n",
       "    </tr>\n",
       "    <tr>\n",
       "      <th>1</th>\n",
       "      <td>1</td>\n",
       "      <td>CBL</td>\n",
       "      <td>W802*</td>\n",
       "      <td>2</td>\n",
       "      <td>Abstract Background  Non-small cell lung canc...</td>\n",
       "    </tr>\n",
       "    <tr>\n",
       "      <th>2</th>\n",
       "      <td>2</td>\n",
       "      <td>CBL</td>\n",
       "      <td>Q249E</td>\n",
       "      <td>2</td>\n",
       "      <td>Abstract Background  Non-small cell lung canc...</td>\n",
       "    </tr>\n",
       "    <tr>\n",
       "      <th>3</th>\n",
       "      <td>3</td>\n",
       "      <td>CBL</td>\n",
       "      <td>N454D</td>\n",
       "      <td>3</td>\n",
       "      <td>Recent evidence has demonstrated that acquired...</td>\n",
       "    </tr>\n",
       "    <tr>\n",
       "      <th>4</th>\n",
       "      <td>4</td>\n",
       "      <td>CBL</td>\n",
       "      <td>L399V</td>\n",
       "      <td>4</td>\n",
       "      <td>Oncogenic mutations in the monomeric Casitas B...</td>\n",
       "    </tr>\n",
       "    <tr>\n",
       "      <th>5</th>\n",
       "      <td>5</td>\n",
       "      <td>CBL</td>\n",
       "      <td>V391I</td>\n",
       "      <td>4</td>\n",
       "      <td>Oncogenic mutations in the monomeric Casitas B...</td>\n",
       "    </tr>\n",
       "    <tr>\n",
       "      <th>6</th>\n",
       "      <td>6</td>\n",
       "      <td>CBL</td>\n",
       "      <td>V430M</td>\n",
       "      <td>5</td>\n",
       "      <td>Oncogenic mutations in the monomeric Casitas B...</td>\n",
       "    </tr>\n",
       "    <tr>\n",
       "      <th>7</th>\n",
       "      <td>7</td>\n",
       "      <td>CBL</td>\n",
       "      <td>Deletion</td>\n",
       "      <td>1</td>\n",
       "      <td>CBL is a negative regulator of activated recep...</td>\n",
       "    </tr>\n",
       "    <tr>\n",
       "      <th>8</th>\n",
       "      <td>8</td>\n",
       "      <td>CBL</td>\n",
       "      <td>Y371H</td>\n",
       "      <td>4</td>\n",
       "      <td>Abstract Juvenile myelomonocytic leukemia (JM...</td>\n",
       "    </tr>\n",
       "    <tr>\n",
       "      <th>9</th>\n",
       "      <td>9</td>\n",
       "      <td>CBL</td>\n",
       "      <td>C384R</td>\n",
       "      <td>4</td>\n",
       "      <td>Abstract Juvenile myelomonocytic leukemia (JM...</td>\n",
       "    </tr>\n",
       "  </tbody>\n",
       "</table>\n",
       "</div>"
      ],
      "text/plain": [
       "   ID    Gene             Variation  Class  \\\n",
       "0   0  FAM58A  Truncating Mutations      1   \n",
       "1   1     CBL                 W802*      2   \n",
       "2   2     CBL                 Q249E      2   \n",
       "3   3     CBL                 N454D      3   \n",
       "4   4     CBL                 L399V      4   \n",
       "5   5     CBL                 V391I      4   \n",
       "6   6     CBL                 V430M      5   \n",
       "7   7     CBL              Deletion      1   \n",
       "8   8     CBL                 Y371H      4   \n",
       "9   9     CBL                 C384R      4   \n",
       "\n",
       "                                                Text  \n",
       "0  Cyclin-dependent kinases (CDKs) regulate a var...  \n",
       "1   Abstract Background  Non-small cell lung canc...  \n",
       "2   Abstract Background  Non-small cell lung canc...  \n",
       "3  Recent evidence has demonstrated that acquired...  \n",
       "4  Oncogenic mutations in the monomeric Casitas B...  \n",
       "5  Oncogenic mutations in the monomeric Casitas B...  \n",
       "6  Oncogenic mutations in the monomeric Casitas B...  \n",
       "7  CBL is a negative regulator of activated recep...  \n",
       "8   Abstract Juvenile myelomonocytic leukemia (JM...  \n",
       "9   Abstract Juvenile myelomonocytic leukemia (JM...  "
      ]
     },
     "execution_count": 10,
     "metadata": {},
     "output_type": "execute_result"
    }
   ],
   "source": [
    "#https://datacarpentry.org/python-socialsci/11-joins/index.html\n",
    "\n",
    "final_df = df_cd = pd.merge(data_train_var, data_train_text, how='inner', on = 'ID')\n",
    "final_df.head(10)"
   ]
  },
  {
   "cell_type": "code",
   "execution_count": 11,
   "metadata": {},
   "outputs": [],
   "source": [
    "#Rearranging the dataframe\n",
    "final_df = final_df.reindex(columns=['ID', 'Gene', 'Variation', 'Text', 'Class'])"
   ]
  },
  {
   "cell_type": "markdown",
   "metadata": {},
   "source": [
    " <img src=\"9Classes.png\">\n",
    " \n",
    "reference: https://www.kaggle.com/c/msk-redefining-cancer-treatment/discussion/35810"
   ]
  },
  {
   "cell_type": "code",
   "execution_count": 12,
   "metadata": {},
   "outputs": [],
   "source": [
    "#Replacing the integer classes with the actual classes.\n",
    "final_df['Class'].replace(1, 'Likely Loss-of-function', inplace=True)\n",
    "final_df['Class'].replace(2, 'Likely Gain-of-function', inplace=True)\n",
    "final_df['Class'].replace(3, 'Neutral', inplace=True)\n",
    "final_df['Class'].replace(4, 'Loss-of-function', inplace=True)\n",
    "final_df['Class'].replace(5, 'Likely Neutral', inplace=True)\n",
    "final_df['Class'].replace(6, 'Inconclusive', inplace=True)\n",
    "final_df['Class'].replace(7, 'Gain-of-function', inplace=True)\n",
    "final_df['Class'].replace(8, 'Likely Switch-of-function', inplace=True)\n",
    "final_df['Class'].replace(9, 'Switch-of-function', inplace=True)"
   ]
  },
  {
   "cell_type": "code",
   "execution_count": 13,
   "metadata": {},
   "outputs": [
    {
     "data": {
      "text/html": [
       "<div>\n",
       "<style scoped>\n",
       "    .dataframe tbody tr th:only-of-type {\n",
       "        vertical-align: middle;\n",
       "    }\n",
       "\n",
       "    .dataframe tbody tr th {\n",
       "        vertical-align: top;\n",
       "    }\n",
       "\n",
       "    .dataframe thead th {\n",
       "        text-align: right;\n",
       "    }\n",
       "</style>\n",
       "<table border=\"1\" class=\"dataframe\">\n",
       "  <thead>\n",
       "    <tr style=\"text-align: right;\">\n",
       "      <th></th>\n",
       "      <th>ID</th>\n",
       "      <th>Gene</th>\n",
       "      <th>Variation</th>\n",
       "      <th>Text</th>\n",
       "      <th>Class</th>\n",
       "    </tr>\n",
       "  </thead>\n",
       "  <tbody>\n",
       "    <tr>\n",
       "      <th>0</th>\n",
       "      <td>0</td>\n",
       "      <td>FAM58A</td>\n",
       "      <td>Truncating Mutations</td>\n",
       "      <td>Cyclin-dependent kinases (CDKs) regulate a var...</td>\n",
       "      <td>Likely Loss-of-function</td>\n",
       "    </tr>\n",
       "    <tr>\n",
       "      <th>1</th>\n",
       "      <td>1</td>\n",
       "      <td>CBL</td>\n",
       "      <td>W802*</td>\n",
       "      <td>Abstract Background  Non-small cell lung canc...</td>\n",
       "      <td>Likely Gain-of-function</td>\n",
       "    </tr>\n",
       "    <tr>\n",
       "      <th>2</th>\n",
       "      <td>2</td>\n",
       "      <td>CBL</td>\n",
       "      <td>Q249E</td>\n",
       "      <td>Abstract Background  Non-small cell lung canc...</td>\n",
       "      <td>Likely Gain-of-function</td>\n",
       "    </tr>\n",
       "    <tr>\n",
       "      <th>3</th>\n",
       "      <td>3</td>\n",
       "      <td>CBL</td>\n",
       "      <td>N454D</td>\n",
       "      <td>Recent evidence has demonstrated that acquired...</td>\n",
       "      <td>Neutral</td>\n",
       "    </tr>\n",
       "    <tr>\n",
       "      <th>4</th>\n",
       "      <td>4</td>\n",
       "      <td>CBL</td>\n",
       "      <td>L399V</td>\n",
       "      <td>Oncogenic mutations in the monomeric Casitas B...</td>\n",
       "      <td>Loss-of-function</td>\n",
       "    </tr>\n",
       "    <tr>\n",
       "      <th>5</th>\n",
       "      <td>5</td>\n",
       "      <td>CBL</td>\n",
       "      <td>V391I</td>\n",
       "      <td>Oncogenic mutations in the monomeric Casitas B...</td>\n",
       "      <td>Loss-of-function</td>\n",
       "    </tr>\n",
       "    <tr>\n",
       "      <th>6</th>\n",
       "      <td>6</td>\n",
       "      <td>CBL</td>\n",
       "      <td>V430M</td>\n",
       "      <td>Oncogenic mutations in the monomeric Casitas B...</td>\n",
       "      <td>Likely Neutral</td>\n",
       "    </tr>\n",
       "    <tr>\n",
       "      <th>7</th>\n",
       "      <td>7</td>\n",
       "      <td>CBL</td>\n",
       "      <td>Deletion</td>\n",
       "      <td>CBL is a negative regulator of activated recep...</td>\n",
       "      <td>Likely Loss-of-function</td>\n",
       "    </tr>\n",
       "    <tr>\n",
       "      <th>8</th>\n",
       "      <td>8</td>\n",
       "      <td>CBL</td>\n",
       "      <td>Y371H</td>\n",
       "      <td>Abstract Juvenile myelomonocytic leukemia (JM...</td>\n",
       "      <td>Loss-of-function</td>\n",
       "    </tr>\n",
       "    <tr>\n",
       "      <th>9</th>\n",
       "      <td>9</td>\n",
       "      <td>CBL</td>\n",
       "      <td>C384R</td>\n",
       "      <td>Abstract Juvenile myelomonocytic leukemia (JM...</td>\n",
       "      <td>Loss-of-function</td>\n",
       "    </tr>\n",
       "  </tbody>\n",
       "</table>\n",
       "</div>"
      ],
      "text/plain": [
       "   ID    Gene             Variation  \\\n",
       "0   0  FAM58A  Truncating Mutations   \n",
       "1   1     CBL                 W802*   \n",
       "2   2     CBL                 Q249E   \n",
       "3   3     CBL                 N454D   \n",
       "4   4     CBL                 L399V   \n",
       "5   5     CBL                 V391I   \n",
       "6   6     CBL                 V430M   \n",
       "7   7     CBL              Deletion   \n",
       "8   8     CBL                 Y371H   \n",
       "9   9     CBL                 C384R   \n",
       "\n",
       "                                                Text                    Class  \n",
       "0  Cyclin-dependent kinases (CDKs) regulate a var...  Likely Loss-of-function  \n",
       "1   Abstract Background  Non-small cell lung canc...  Likely Gain-of-function  \n",
       "2   Abstract Background  Non-small cell lung canc...  Likely Gain-of-function  \n",
       "3  Recent evidence has demonstrated that acquired...                  Neutral  \n",
       "4  Oncogenic mutations in the monomeric Casitas B...         Loss-of-function  \n",
       "5  Oncogenic mutations in the monomeric Casitas B...         Loss-of-function  \n",
       "6  Oncogenic mutations in the monomeric Casitas B...           Likely Neutral  \n",
       "7  CBL is a negative regulator of activated recep...  Likely Loss-of-function  \n",
       "8   Abstract Juvenile myelomonocytic leukemia (JM...         Loss-of-function  \n",
       "9   Abstract Juvenile myelomonocytic leukemia (JM...         Loss-of-function  "
      ]
     },
     "execution_count": 13,
     "metadata": {},
     "output_type": "execute_result"
    }
   ],
   "source": [
    "#Final data frame after merging\n",
    "final_df.head(10)"
   ]
  },
  {
   "cell_type": "code",
   "execution_count": 14,
   "metadata": {},
   "outputs": [],
   "source": [
    "#saving the final training dataframe \n",
    "final_df.to_csv('training_FINAL.csv') "
   ]
  },
  {
   "cell_type": "markdown",
   "metadata": {},
   "source": [
    "# 3. Exploratory Data Analysis using Pandas Profiling\n",
    "\n",
    "<a id='eda'></a>"
   ]
  },
  {
   "cell_type": "code",
   "execution_count": 15,
   "metadata": {},
   "outputs": [],
   "source": [
    "#https://towardsdatascience.com/a-better-eda-with-pandas-profiling-e842a00e1136\n",
    "#Using Pandas profiling for better EDA\n",
    "\n",
    "#importing the pandas_profiling\n",
    "import pandas_profiling\n",
    "profile = final_df.profile_report(title='Pandas Profiling Report for Gene Classification', style={'full_width':True})\n",
    "#profile.to_file(output_file=\"Gene_pandas_profiling.html\")"
   ]
  },
  {
   "cell_type": "markdown",
   "metadata": {},
   "source": [
    "# 4. Pre-processing of Medical Text\n",
    "\n",
    "<a id='pre'></a>"
   ]
  },
  {
   "cell_type": "code",
   "execution_count": 16,
   "metadata": {},
   "outputs": [],
   "source": [
    "from nltk.corpus import stopwords\n",
    "\n",
    "# loading stop words from nltk library\n",
    "stop_words = set(stopwords.words('english'))\n",
    "\n",
    "def nlp_preprocessing(total_text, index, column):\n",
    "    if type(total_text) is not int:\n",
    "        string = \"\"\n",
    "        # replace every special char with space\n",
    "        total_text = re.sub('[^a-zA-Z0-9\\n]', ' ', total_text)\n",
    "        # replace multiple spaces with single space\n",
    "        total_text = re.sub('\\s+',' ', total_text)\n",
    "        # converting all the chars into lower-case.\n",
    "        total_text = total_text.lower()\n",
    "        \n",
    "        for word in total_text.split():\n",
    "        # if the word is a not a stop word then retain that word from the data\n",
    "            if not word in stop_words:\n",
    "                string += word + \" \"\n",
    "        \n",
    "        final_df[column][index] = string"
   ]
  },
  {
   "cell_type": "code",
   "execution_count": 17,
   "metadata": {},
   "outputs": [
    {
     "name": "stderr",
     "output_type": "stream",
     "text": [
      "1109it [02:40,  7.91it/s]"
     ]
    },
    {
     "name": "stdout",
     "output_type": "stream",
     "text": [
      "There is no text description for ID: 1109\n"
     ]
    },
    {
     "name": "stderr",
     "output_type": "stream",
     "text": [
      "1277it [03:05,  6.50it/s]"
     ]
    },
    {
     "name": "stdout",
     "output_type": "stream",
     "text": [
      "There is no text description for ID: 1277\n"
     ]
    },
    {
     "name": "stderr",
     "output_type": "stream",
     "text": [
      "1407it [03:26,  6.66it/s]"
     ]
    },
    {
     "name": "stdout",
     "output_type": "stream",
     "text": [
      "There is no text description for ID: 1407\n"
     ]
    },
    {
     "name": "stderr",
     "output_type": "stream",
     "text": [
      "1639it [04:04,  5.69it/s]"
     ]
    },
    {
     "name": "stdout",
     "output_type": "stream",
     "text": [
      "There is no text description for ID: 1639\n"
     ]
    },
    {
     "name": "stderr",
     "output_type": "stream",
     "text": [
      "2755it [07:09,  5.43it/s]"
     ]
    },
    {
     "name": "stdout",
     "output_type": "stream",
     "text": [
      "There is no text description for ID: 2755\n"
     ]
    },
    {
     "name": "stderr",
     "output_type": "stream",
     "text": [
      "3321it [08:42,  6.36it/s]\n"
     ]
    }
   ],
   "source": [
    "import time\n",
    "import re\n",
    "from tqdm import tqdm\n",
    "\n",
    "import warnings\n",
    "warnings.filterwarnings('ignore')\n",
    "\n",
    "for index, row in tqdm(final_df.iterrows()):\n",
    "    if type(row['Text']) is str:\n",
    "        nlp_preprocessing(row['Text'], index, 'Text')\n",
    "    else:\n",
    "        print(\"There is no text description for ID:\", index)"
   ]
  },
  {
   "cell_type": "code",
   "execution_count": 18,
   "metadata": {},
   "outputs": [
    {
     "data": {
      "text/html": [
       "<div>\n",
       "<style scoped>\n",
       "    .dataframe tbody tr th:only-of-type {\n",
       "        vertical-align: middle;\n",
       "    }\n",
       "\n",
       "    .dataframe tbody tr th {\n",
       "        vertical-align: top;\n",
       "    }\n",
       "\n",
       "    .dataframe thead th {\n",
       "        text-align: right;\n",
       "    }\n",
       "</style>\n",
       "<table border=\"1\" class=\"dataframe\">\n",
       "  <thead>\n",
       "    <tr style=\"text-align: right;\">\n",
       "      <th></th>\n",
       "      <th>ID</th>\n",
       "      <th>Gene</th>\n",
       "      <th>Variation</th>\n",
       "      <th>Text</th>\n",
       "      <th>Class</th>\n",
       "    </tr>\n",
       "  </thead>\n",
       "  <tbody>\n",
       "    <tr>\n",
       "      <th>0</th>\n",
       "      <td>0</td>\n",
       "      <td>FAM58A</td>\n",
       "      <td>Truncating Mutations</td>\n",
       "      <td>cyclin dependent kinases cdks regulate variety...</td>\n",
       "      <td>Likely Loss-of-function</td>\n",
       "    </tr>\n",
       "    <tr>\n",
       "      <th>1</th>\n",
       "      <td>1</td>\n",
       "      <td>CBL</td>\n",
       "      <td>W802*</td>\n",
       "      <td>abstract background non small cell lung cancer...</td>\n",
       "      <td>Likely Gain-of-function</td>\n",
       "    </tr>\n",
       "    <tr>\n",
       "      <th>2</th>\n",
       "      <td>2</td>\n",
       "      <td>CBL</td>\n",
       "      <td>Q249E</td>\n",
       "      <td>abstract background non small cell lung cancer...</td>\n",
       "      <td>Likely Gain-of-function</td>\n",
       "    </tr>\n",
       "    <tr>\n",
       "      <th>3</th>\n",
       "      <td>3</td>\n",
       "      <td>CBL</td>\n",
       "      <td>N454D</td>\n",
       "      <td>recent evidence demonstrated acquired uniparen...</td>\n",
       "      <td>Neutral</td>\n",
       "    </tr>\n",
       "    <tr>\n",
       "      <th>4</th>\n",
       "      <td>4</td>\n",
       "      <td>CBL</td>\n",
       "      <td>L399V</td>\n",
       "      <td>oncogenic mutations monomeric casitas b lineag...</td>\n",
       "      <td>Loss-of-function</td>\n",
       "    </tr>\n",
       "    <tr>\n",
       "      <th>5</th>\n",
       "      <td>5</td>\n",
       "      <td>CBL</td>\n",
       "      <td>V391I</td>\n",
       "      <td>oncogenic mutations monomeric casitas b lineag...</td>\n",
       "      <td>Loss-of-function</td>\n",
       "    </tr>\n",
       "    <tr>\n",
       "      <th>6</th>\n",
       "      <td>6</td>\n",
       "      <td>CBL</td>\n",
       "      <td>V430M</td>\n",
       "      <td>oncogenic mutations monomeric casitas b lineag...</td>\n",
       "      <td>Likely Neutral</td>\n",
       "    </tr>\n",
       "    <tr>\n",
       "      <th>7</th>\n",
       "      <td>7</td>\n",
       "      <td>CBL</td>\n",
       "      <td>Deletion</td>\n",
       "      <td>cbl negative regulator activated receptor tyro...</td>\n",
       "      <td>Likely Loss-of-function</td>\n",
       "    </tr>\n",
       "    <tr>\n",
       "      <th>8</th>\n",
       "      <td>8</td>\n",
       "      <td>CBL</td>\n",
       "      <td>Y371H</td>\n",
       "      <td>abstract juvenile myelomonocytic leukemia jmml...</td>\n",
       "      <td>Loss-of-function</td>\n",
       "    </tr>\n",
       "    <tr>\n",
       "      <th>9</th>\n",
       "      <td>9</td>\n",
       "      <td>CBL</td>\n",
       "      <td>C384R</td>\n",
       "      <td>abstract juvenile myelomonocytic leukemia jmml...</td>\n",
       "      <td>Loss-of-function</td>\n",
       "    </tr>\n",
       "  </tbody>\n",
       "</table>\n",
       "</div>"
      ],
      "text/plain": [
       "   ID    Gene             Variation  \\\n",
       "0   0  FAM58A  Truncating Mutations   \n",
       "1   1     CBL                 W802*   \n",
       "2   2     CBL                 Q249E   \n",
       "3   3     CBL                 N454D   \n",
       "4   4     CBL                 L399V   \n",
       "5   5     CBL                 V391I   \n",
       "6   6     CBL                 V430M   \n",
       "7   7     CBL              Deletion   \n",
       "8   8     CBL                 Y371H   \n",
       "9   9     CBL                 C384R   \n",
       "\n",
       "                                                Text                    Class  \n",
       "0  cyclin dependent kinases cdks regulate variety...  Likely Loss-of-function  \n",
       "1  abstract background non small cell lung cancer...  Likely Gain-of-function  \n",
       "2  abstract background non small cell lung cancer...  Likely Gain-of-function  \n",
       "3  recent evidence demonstrated acquired uniparen...                  Neutral  \n",
       "4  oncogenic mutations monomeric casitas b lineag...         Loss-of-function  \n",
       "5  oncogenic mutations monomeric casitas b lineag...         Loss-of-function  \n",
       "6  oncogenic mutations monomeric casitas b lineag...           Likely Neutral  \n",
       "7  cbl negative regulator activated receptor tyro...  Likely Loss-of-function  \n",
       "8  abstract juvenile myelomonocytic leukemia jmml...         Loss-of-function  \n",
       "9  abstract juvenile myelomonocytic leukemia jmml...         Loss-of-function  "
      ]
     },
     "execution_count": 18,
     "metadata": {},
     "output_type": "execute_result"
    }
   ],
   "source": [
    "final_df.head(10)"
   ]
  },
  {
   "cell_type": "code",
   "execution_count": 19,
   "metadata": {},
   "outputs": [
    {
     "data": {
      "text/html": [
       "<div>\n",
       "<style scoped>\n",
       "    .dataframe tbody tr th:only-of-type {\n",
       "        vertical-align: middle;\n",
       "    }\n",
       "\n",
       "    .dataframe tbody tr th {\n",
       "        vertical-align: top;\n",
       "    }\n",
       "\n",
       "    .dataframe thead th {\n",
       "        text-align: right;\n",
       "    }\n",
       "</style>\n",
       "<table border=\"1\" class=\"dataframe\">\n",
       "  <thead>\n",
       "    <tr style=\"text-align: right;\">\n",
       "      <th></th>\n",
       "      <th>ID</th>\n",
       "      <th>Gene</th>\n",
       "      <th>Variation</th>\n",
       "      <th>Text</th>\n",
       "      <th>Class</th>\n",
       "    </tr>\n",
       "  </thead>\n",
       "  <tbody>\n",
       "    <tr>\n",
       "      <th>1109</th>\n",
       "      <td>1109</td>\n",
       "      <td>FANCA</td>\n",
       "      <td>S1088F</td>\n",
       "      <td>NaN</td>\n",
       "      <td>Likely Loss-of-function</td>\n",
       "    </tr>\n",
       "    <tr>\n",
       "      <th>1277</th>\n",
       "      <td>1277</td>\n",
       "      <td>ARID5B</td>\n",
       "      <td>Truncating Mutations</td>\n",
       "      <td>NaN</td>\n",
       "      <td>Likely Loss-of-function</td>\n",
       "    </tr>\n",
       "    <tr>\n",
       "      <th>1407</th>\n",
       "      <td>1407</td>\n",
       "      <td>FGFR3</td>\n",
       "      <td>K508M</td>\n",
       "      <td>NaN</td>\n",
       "      <td>Inconclusive</td>\n",
       "    </tr>\n",
       "    <tr>\n",
       "      <th>1639</th>\n",
       "      <td>1639</td>\n",
       "      <td>FLT1</td>\n",
       "      <td>Amplification</td>\n",
       "      <td>NaN</td>\n",
       "      <td>Inconclusive</td>\n",
       "    </tr>\n",
       "    <tr>\n",
       "      <th>2755</th>\n",
       "      <td>2755</td>\n",
       "      <td>BRAF</td>\n",
       "      <td>G596C</td>\n",
       "      <td>NaN</td>\n",
       "      <td>Gain-of-function</td>\n",
       "    </tr>\n",
       "  </tbody>\n",
       "</table>\n",
       "</div>"
      ],
      "text/plain": [
       "        ID    Gene             Variation Text                    Class\n",
       "1109  1109   FANCA                S1088F  NaN  Likely Loss-of-function\n",
       "1277  1277  ARID5B  Truncating Mutations  NaN  Likely Loss-of-function\n",
       "1407  1407   FGFR3                 K508M  NaN             Inconclusive\n",
       "1639  1639    FLT1         Amplification  NaN             Inconclusive\n",
       "2755  2755    BRAF                 G596C  NaN         Gain-of-function"
      ]
     },
     "execution_count": 19,
     "metadata": {},
     "output_type": "execute_result"
    }
   ],
   "source": [
    "#Checking if there are any null values\n",
    "final_df[final_df.isnull().any(axis=1)]"
   ]
  },
  {
   "cell_type": "code",
   "execution_count": 20,
   "metadata": {},
   "outputs": [],
   "source": [
    "#Dropping the rows with Null values.\n",
    "final_df.drop([1109, 1277, 1407, 1639, 2755], inplace=True)"
   ]
  },
  {
   "cell_type": "code",
   "execution_count": 21,
   "metadata": {},
   "outputs": [
    {
     "name": "stdout",
     "output_type": "stream",
     "text": [
      "(3316, 5)\n"
     ]
    }
   ],
   "source": [
    "y = final_df['Class']\n",
    "#final_df.drop(['Class'], axis=1, inplace=True)\n",
    "X = final_df\n",
    "\n",
    "#final shape of matrix\n",
    "print(X.shape)"
   ]
  },
  {
   "cell_type": "code",
   "execution_count": 25,
   "metadata": {},
   "outputs": [],
   "source": [
    "X.to_csv('For_deployment.csv')"
   ]
  },
  {
   "cell_type": "markdown",
   "metadata": {},
   "source": [
    "# 5. Splitting the data into Train and test set.\n",
    "\n",
    "<a id='tts'></a>"
   ]
  },
  {
   "cell_type": "code",
   "execution_count": 22,
   "metadata": {},
   "outputs": [],
   "source": [
    "# train test split before vectorizing or performing any feature engineering techniques\n",
    "#as doing it before leads to data leakage.\n",
    "from sklearn.model_selection import train_test_split\n",
    "\n",
    "X_train, X_test, y_train, y_test = train_test_split(X, y, test_size=0.20)"
   ]
  },
  {
   "cell_type": "markdown",
   "metadata": {},
   "source": [
    "# 6. Encoding of Medical Text\n",
    "<a id='enc'></a>"
   ]
  },
  {
   "cell_type": "markdown",
   "metadata": {},
   "source": [
    "### 6.1 Bag of Words Encoding \n",
    "\n",
    "<a id='bow'></a>"
   ]
  },
  {
   "cell_type": "code",
   "execution_count": 23,
   "metadata": {},
   "outputs": [
    {
     "name": "stdout",
     "output_type": "stream",
     "text": [
      "Before Bag of Words: \n",
      "(2652, 4) (2652,)\n",
      "(664, 4) (664,)\n",
      "====================================================================================================\n",
      "After encoding using Bag of Words: \n",
      "(2652, 29277) (2652,)\n",
      "(664, 29277) (664,)\n",
      "Wall time: 51.9 s\n"
     ]
    }
   ],
   "source": [
    "%%time\n",
    "\n",
    "#BoW for medical text.\n",
    "print('Before Bag of Words: ')\n",
    "print(X_train.shape, y_train.shape)\n",
    "#print(X_cv.shape, y_cv.shape)\n",
    "print(X_test.shape, y_test.shape)\n",
    "\n",
    "print(\"=\"*100)\n",
    "\n",
    "from sklearn.feature_extraction.text import CountVectorizer\n",
    "\n",
    "vectorizer_medical_text = CountVectorizer(min_df=10)\n",
    "vectorizer_medical_text.fit(X_train['Text'].values) # fit has to happen only on train data\n",
    "\n",
    "# we use the fitted CountVectorizer to convert the text to vector\n",
    "X_train_medical_text_bow = vectorizer_medical_text.transform(X_train['Text'].values)\n",
    "X_test_medical_text_bow = vectorizer_medical_text.transform(X_test['Text'].values)\n",
    "\n",
    "print(\"After encoding using Bag of Words: \")\n",
    "print(X_train_medical_text_bow.shape, y_train.shape)\n",
    "print(X_test_medical_text_bow.shape, y_test.shape)"
   ]
  },
  {
   "cell_type": "markdown",
   "metadata": {},
   "source": [
    "### 6.2. TF-IDF Encoding \n",
    "\n",
    "<a id='tfidf'></a>"
   ]
  },
  {
   "cell_type": "code",
   "execution_count": 24,
   "metadata": {},
   "outputs": [
    {
     "name": "stdout",
     "output_type": "stream",
     "text": [
      "Before TFIDF: \n",
      "(2652, 4) (2652,)\n",
      "(664, 4) (664,)\n",
      "====================================================================================================\n",
      "After encoding using TFIDF: \n",
      "(2652, 29277) (2652,)\n",
      "(664, 29277) (664,)\n",
      "Wall time: 50.6 s\n"
     ]
    }
   ],
   "source": [
    "%%time\n",
    "\n",
    "#TFIDF for medical text.\n",
    "print('Before TFIDF: ')\n",
    "print(X_train.shape, y_train.shape)\n",
    "print(X_test.shape, y_test.shape)\n",
    "\n",
    "print(\"=\"*100)\n",
    "\n",
    "#TF-IDF Encoding on medical text\n",
    "from sklearn.feature_extraction.text import TfidfVectorizer\n",
    "\n",
    "vectorizer_medical_text_tfidf = TfidfVectorizer(min_df=10)\n",
    "    vectorizer_medical_text_tfidf.fit(X_train['Text'].values) #fit has to happen only on train data\n",
    "\n",
    "#We use the fitted CountVectorizer to convert the text to vector\n",
    "X_train_medical_text_tfidf = vectorizer_medical_text_tfidf.transform(X_train['Text'].values)\n",
    "X_test_medical_text_tfidf = vectorizer_medical_text_tfidf.transform(X_test['Text'].values)\n",
    "\n",
    "print(\"After encoding using TFIDF: \")\n",
    "print(X_train_medical_text_tfidf.shape, y_train.shape)\n",
    "print(X_test_medical_text_tfidf.shape, y_test.shape)"
   ]
  },
  {
   "cell_type": "markdown",
   "metadata": {},
   "source": [
    "# 7. One Hot Encoding of Categorical Features.\n",
    "\n",
    "<a id='ohe'></a>"
   ]
  },
  {
   "cell_type": "markdown",
   "metadata": {},
   "source": [
    "### 7.1 One Hot Encoding of GENE feature.\n",
    "\n",
    "<a id='ohegene'></a>"
   ]
  },
  {
   "cell_type": "code",
   "execution_count": 25,
   "metadata": {},
   "outputs": [
    {
     "name": "stdout",
     "output_type": "stream",
     "text": [
      "After One-Hot-Encoding of Gene Feature: \n",
      "(2652, 248) (2652,)\n",
      "(664, 248) (664,)\n",
      "['abl1', 'acvr1', 'ago2', 'akt1', 'akt2', 'akt3', 'alk', 'apc', 'ar', 'araf', 'arid1a', 'arid1b', 'arid2', 'asxl1', 'asxl2', 'atm', 'atr', 'atrx', 'aurka', 'aurkb', 'axin1', 'axl', 'b2m', 'bap1', 'bard1', 'bcl10', 'bcl2l11', 'bcor', 'braf', 'brca1', 'brca2', 'brd4', 'brip1', 'btk', 'card11', 'carm1', 'casp8', 'cbl', 'ccnd1', 'ccnd3', 'ccne1', 'cdh1', 'cdk12', 'cdk4', 'cdk6', 'cdk8', 'cdkn1a', 'cdkn1b', 'cdkn2a', 'cdkn2b', 'cebpa', 'chek2', 'cic', 'crebbp', 'ctcf', 'ctnnb1', 'ddr2', 'dicer1', 'dnmt3a', 'dnmt3b', 'dusp4', 'egfr', 'eif1ax', 'elf3', 'ep300', 'epas1', 'epcam', 'erbb2', 'erbb3', 'erbb4', 'ercc2', 'ercc3', 'ercc4', 'erg', 'errfi1', 'esr1', 'etv1', 'etv6', 'ewsr1', 'ezh2', 'fam58a', 'fanca', 'fat1', 'fbxw7', 'fgf19', 'fgf3', 'fgf4', 'fgfr1', 'fgfr2', 'fgfr3', 'fgfr4', 'flt3', 'foxa1', 'foxl2', 'foxo1', 'foxp1', 'gata3', 'gli1', 'gna11', 'gnaq', 'gnas', 'h3f3a', 'hist1h1c', 'hla', 'hnf1a', 'hras', 'idh1', 'idh2', 'igf1r', 'ikbke', 'ikzf1', 'il7r', 'inpp4b', 'jak1', 'jak2', 'jun', 'kdm5a', 'kdm5c', 'kdm6a', 'kdr', 'keap1', 'kit', 'klf4', 'kmt2a', 'kmt2c', 'kmt2d', 'knstrn', 'kras', 'lats1', 'lats2', 'map2k1', 'map2k2', 'map2k4', 'map3k1', 'mapk1', 'mdm2', 'mdm4', 'med12', 'mef2b', 'men1', 'met', 'mga', 'mlh1', 'mpl', 'msh2', 'msh6', 'mtor', 'myc', 'mycn', 'myd88', 'ncor1', 'nf1', 'nf2', 'nfe2l2', 'nfkbia', 'nkx2', 'notch1', 'notch2', 'npm1', 'nras', 'nsd1', 'ntrk1', 'ntrk2', 'ntrk3', 'nup93', 'pak1', 'pax8', 'pbrm1', 'pdgfra', 'pdgfrb', 'pik3ca', 'pik3cb', 'pik3cd', 'pik3r1', 'pik3r2', 'pik3r3', 'pim1', 'pms1', 'pms2', 'pole', 'ppm1d', 'ppp2r1a', 'ppp6c', 'prdm1', 'ptch1', 'pten', 'ptpn11', 'ptprd', 'ptprt', 'rab35', 'rac1', 'rad21', 'rad50', 'rad51b', 'rad51c', 'rad51d', 'raf1', 'rara', 'rasa1', 'rb1', 'rbm10', 'ret', 'rheb', 'rhoa', 'rit1', 'ros1', 'rras2', 'runx1', 'rxra', 'rybp', 'sdhb', 'sdhc', 'setd2', 'sf3b1', 'shoc2', 'shq1', 'smad2', 'smad3', 'smad4', 'smarca4', 'smarcb1', 'smo', 'sos1', 'sox9', 'spop', 'src', 'stag2', 'stat3', 'stk11', 'tcf3', 'tcf7l2', 'tert', 'tet1', 'tet2', 'tgfbr1', 'tgfbr2', 'tmprss2', 'tp53', 'tp53bp1', 'tsc1', 'tsc2', 'u2af1', 'vhl', 'whsc1', 'whsc1l1', 'xpo1', 'xrcc2', 'yap1']\n",
      "====================================================================================================\n"
     ]
    }
   ],
   "source": [
    "#One-hot encoding of Gene feature.\n",
    "gene_vectorizer = CountVectorizer(binary=True)\n",
    "\n",
    "X_train_gene_ohe = gene_vectorizer.fit_transform(X_train['Gene'])\n",
    "X_test_gene_ohe = gene_vectorizer.transform(X_test['Gene'])\n",
    "\n",
    "print(\"After One-Hot-Encoding of Gene Feature: \")\n",
    "print(X_train_gene_ohe.shape, y_train.shape)\n",
    "print(X_test_gene_ohe.shape, y_test.shape)\n",
    "print(gene_vectorizer.get_feature_names())\n",
    "print(\"=\"*100)"
   ]
  },
  {
   "cell_type": "markdown",
   "metadata": {},
   "source": [
    "### 7.2 One Hot Encoding of VARIATION feature.\n",
    "\n",
    "<a id='ohevar'></a>"
   ]
  },
  {
   "cell_type": "code",
   "execution_count": 26,
   "metadata": {},
   "outputs": [
    {
     "name": "stdout",
     "output_type": "stream",
     "text": [
      "After One-Hot-Encoding of Gene Feature: \n",
      "(2652, 2430) (2652,)\n",
      "(664, 2430) (664,)\n",
      "['11', '126', '13', '17', '19', '1_2009trunc', '20', '2010_2471trunc', '256_286trunc', '385_418del', '422_605trunc', '51', '533_534del', '550_592del', '560_561inser', '596_619splice', '6a', '963_d1010splice', 'a1065t', 'a1066v', 'a1099t', 'a111p', 'a1131t', 'a113_splice', 'a1170v', 'a11_g12insga', 'a1200v', 'a120s', 'a121p', 'a121v', 'a122', 'a1234t', 'a126d', 'a126g', 'a126s', 'a1374v', 'a1459p', 'a146t', 'a146v', 'a149p', 'a1519t', 'a151t', 'a159t', 'a161s', 'a161t', 'a1685s', 'a1708e', 'a1708v', 'a1752p', 'a1752v', 'a1789t', 'a1823t', 'a1830t', 'a1843t', 'a197t', 'a19v', 'a205t', 'a209t', 'a211d', 'a232v', 'a2351g', 'a23e', 'a2425t', 'a246p', 'a263v', 'a2717s', 'a272v', 'a2770t', 'a298t', 'a339v', 'a347t', 'a34d', 'a36p', 'a389t', 'a391e', 'a39p', 'a41p', 'a41t', 'a4419s', 'a459v', 'a502_y503dup', 'a504_y505ins', 'a530t', 'a530v', 'a532h', 'a546d', 'a57v', 'a598t', 'a598v', 'a60v', 'a614d', 'a617t', 'a627t', 'a633t', 'a633v', 'a634d', 'a634v', 'a636p', 'a648t', 'a707t', 'a717g', 'a727v', 'a728v', 'a72s', 'a750_e758del', 'a750_e758delinsp', 'a750p', 'a75p', 'a763_y764insfqea', 'a767_v769del', 'a767_v769dup', 'a77p', 'a77s', 'a77t', 'a859_l883delinsv', 'a864t', 'a883t', 'a889p', 'a8s', 'a919v', 'a95d', 'acpp', 'agk', 'ahcyl1', 'akap9', 'akt3', 'alk', 'amplification', 'ar', 'arv567es', 'atf7ip', 'baiap2l1', 'bcor', 'bcr', 'bicc1', 'bin2', 'binding', 'braf', 'brd4', 'btbd1', 'c105f', 'c1156f', 'c1156y', 'c121s', 'c124n', 'c124r', 'c124s', 'c125s', 'c1265s', 'c134w', 'c135r', 'c135y', 'c1365y', 'c136r', 'c136y', 'c141y', 'c1483f', 'c1483r', 'c1483y', 'c157y', 'c1697r', 'c176f', 'c1787s', 'c18y', 'c2060g', 'c228t', 'c238f', 'c238s', 'c242f', 'c242s', 'c248t', 'c250t', 'c277r', 'c278f', 'c27a', 'c311r', 'c360r', 'c378r', 'c381a', 'c382r', 'c384r', 'c396r', 'c39r', 'c39s', 'c41y', 'c44f', 'c44y', 'c450_k451insmiewmi', 'c456_n468del', 'c456_r481del', 'c47g', 'c47s', 'c481s', 'c482r', 'c49y', 'c528s', 'c554w', 'c569y', 'c582f', 'c609y', 'c618r', 'c620r', 'c620y', 'c628y', 'c630y', 'c634w', 'c634y', 'c64g', 'c706f', 'c71y', 'c809g', 'c91s', 'cad', 'casp8l', 'ccdc6', 'ccnd1', 'cd74', 'cep110', 'cep85l', 'chtop', 'cic', 'copy', 'cpeb1', 'creb1', 'cul1', 'd1010n', 'd1010y', 'd1029y', 'd1067a', 'd1067v', 'd1067y', 'd106a', 'd1071n', 'd107y', 'd108n', 'd1091n', 'd119n', 'd1203n', 'd121g', 'd130a', 'd1344h', 'd1349h', 'd1352y', 'd1384v', 'd140g', 'd1420y', 'd1546n', 'd162g', 'd162h', 'd1692n', 'd1709a', 'd1709e', 'd171g', 'd171n', 'd1733g', 'd1739e', 'd1739g', 'd1778g', 'd1778n', 'd1778y', 'd1853n', 'd194y', 'd2033n', 'd245v', 'd24y', 'd2512g', 'd2512y', 'd252g', 'd254n', 'd257n', 'd258n', 'd2665g', 'd2723h', 'd277h', 'd2870a', 'd287h', 'd289del', 'd29h', 'd29y', 'd300n', 'd3170g', 'd323h', 'd324n', 'd325a', 'd326n', 'd32a', 'd32h', 'd32n', 'd32y', 'd331g', 'd350g', 'd357y', 'd384n', 'd387v', 'd390y', 'd399n', 'd402y', 'd404g', 'd408e', 'd408h', 'd408y', 'd419del', 'd422n', 'd450e', 'd450h', 'd473g', 'd493a', 'd513y', 'd520n', 'd537e', 'd537y', 'd544h', 'd572a', 'd579del', 'd594e', 'd594n', 'd594v', 'd594y', 'd595v', 'd600_l601insfreyeyd', 'd603g', 'd603n', 'd609e', 'd60n', 'd617g', 'd61n', 'd61y', 'd631a', 'd641g', 'd646y', 'd65n', 'd661v', 'd661y', 'd67n', 'd67y', 'd717v', 'd737n', 'd74n', 'd74y', 'd769h', 'd770_n771insd', 'd770_n771insvdsvdnp', 'd770_p772dup', 'd806h', 'd814v', 'd816a', 'd816e', 'd816f', 'd816g', 'd816h', 'd816n', 'd816v', 'd816y', 'd820e', 'd821n', 'd835a', 'd835del', 'd835e', 'd835h', 'd835n', 'd837n', 'd839g', 'd83v', 'd842_h845del', 'd842_m844del', 'd842i', 'd842v', 'd842y', 'd845a', 'd846y', 'd84g', 'd84h', 'd84n', 'd84v', 'd84y', 'd86n', 'd887n', 'd927g', 'd92a', 'd92e', 'd92g', 'd92h', 'd92n', 'd92v', 'd935n', 'd96n', 'ddit3', 'deletion', 'deletions', 'delta', 'dna', 'dnmt3b7', 'domain', 'duplications', 'dux4', 'e1021k', 'e1051k', 'e106g', 'e1071w', 'e1099k', 'e116k', 'e120q', 'e1210k', 'e124q', 'e1250k', 'e127g', 'e1282v', 'e1322', 'e1346k', 'e1356g', 'e135k', 'e1384k', 'e139d', 'e14', 'e142d', 'e143k', 'e144k', 'e1552del', 'e157g', 'e160', 'e161del', 'e1644g', 'e1660g', 'e1682k', 'e1682v', 'e168d', 'e1705a', 'e1705k', 'e172k', 'e1735k', 'e1794d', 'e1799k', 'e17k', 'e190k', 'e1935g', 'e1978', 'e2014k', 'e207k', 'e218', 'e219k', 'e221q', 'e239a', 'e23fs', 'e2419k', 'e255k', 'e255v', 'e265k', 'e2663v', 'e267g', 'e275k', 'e279k', 'e281k', 'e29v', 'e3002k', 'e317k', 'e321g', 'e321k', 'e322k', 'e326l', 'e330g', 'e330k', 'e35', 'e355a', 'e380q', 'e40k', 'e40l', 'e40n', 'e40t', 'e40w', 'e41a', 'e439del', 'e452k', 'e453a', 'e459k', 'e462g', 'e466k', 'e475k', 'e483', 'e490k', 'e49k', 'e501g', 'e50k', 'e518a', 'e518k', 'e525k', 'e541k', 'e542k', 'e542q', 'e542v', 'e545a', 'e545g', 'e545k', 'e545q', 'e552k', 'e554_i571del', 'e554_k558del', 'e554_v559del', 'e563k', 'e579k', 'e580', 'e586k', 'e598_y599insdvdfreye', 'e598_y599insglvqvtgssdneyfyvdfreye', 'e5k', 'e60l', 'e622d', 'e622q', 'e632_l633del', 'e633k', 'e685v', 'e69k', 'e709a', 'e709g', 'e709k', 'e717k', 'e719g', 'e719k', 'e731k', 'e734q', 'e746_a750del', 'e746_a750delinsq', 'e746_s752delinsa', 'e746_s752delinsi', 'e746_t751delinsa', 'e746_t751delinsva', 'e746_t751insip', 'e746g', 'e746q', 'e746v', 'e75g', 'e768d', 'e76a', 'e76k', 'e77k', 'e78k', 'e79k', 'e79q', 'e804g', 'e812k', 'e81k', 'e82d', 'e82g', 'e82v', 'e836k', 'e839k', 'e846k', 'e866k', 'e868g', 'e872k', 'e875g', 'e88k', 'e921k', 'e946', 'e996k', 'ebf1', 'egfr', 'egfrvii', 'egfrviii', 'egfrviv', 'ep300', 'epigenetic', 'erbb4', 'erg', 'erlin2', 'esrp1', 'etv1', 'etv4', 'etv6', 'evi1', 'ewsr1', 'exon', 'ezr', 'f102c', 'f1061w', 'f1088lfs', 'f1088sfs', 'f1174l', 'f119s', 'f1200i', 'f123i', 'f1245c', 'f1245v', 'f129l', 'f12l', 'f133l', 'f133v', 'f134y', 'f1524v', 'f156l', 'f158c', 'f1592s', 'f161l', 'f1662s', 'f1695l', 'f1704s', 'f1734s', 'f1888i', 'f1888l', 'f1888v', 'f2108l', 'f212y', 'f21a', 'f241s', 'f248s', 'f28l', 'f317l', 'f328v', 'f341c', 'f346v', 'f347l', 'f351l', 'f359c', 'f367s', 'f384l', 'f384y', 'f400i', 'f460l', 'f522c', 'f53c', 'f53l', 'f53s', 'f57c', 'f57l', 'f57v', 'f594_r595inssdneyfyvdf', 'f594l', 'f615s', 'f691l', 'f71i', 'f74s', 'f79s', 'f808l', 'f81v', 'f877l', 'f893l', 'f958v', 'fam118b', 'fam131b', 'fam76a', 'fev', 'fgfr1', 'fgfr1op1', 'fgfr2', 'fgfr3', 'fig', 'fli1', 'flt3', 'fus', 'fusion', 'fusions', 'g101s', 'g101w', 'g1035s', 'g106_r108del', 'g106d', 'g1079d', 'g1123s', 'g1125a', 'g1128s', 'g114r', 'g116s', 'g118d', 'g1194d', 'g1201e', 'g1202r', 'g1232d', 'g123r', 'g123s', 'g1269s', 'g127e', 'g127n', 'g1286r', 'g129a', 'g129r', 'g12a', 'g12c', 'g12d', 'g12f', 'g12r', 'g12s', 'g12v', 'g13c', 'g13d', 'g13e', 'g13r', 'g13v', 'g14v', 'g1529r', 'g1567d', 'g1596v', 'g161v', 'g163d', 'g1656d', 'g165e', 'g165r', 'g165v', 'g1706a', 'g1706e', 'g1738r', 'g1763v', 'g1770v', 'g1788d', 'g1788v', 'g17a', 'g17e', 'g17v', 'g1803a', 'g1809k', 'g1809r', 'g186r', 'g1971e', 'g199r', 'g2032r', 'g207e', 'g2101a', 'g216r', 'g23d', 'g245a', 'g245d', 'g245s', 'g248v', 'g250e', 'g251c', 'g253c', 'g266e', 'g266r', 'g271e', 'g284r', 'g305r', 'g305w', 'g309a', 'g311d', 'g31r', 'g322s', 'g328v', 'g333s', 'g334r', 'g34e', 'g34v', 'g35r', 'g370c', 'g373r', 'g375c', 'g375p', 'g376r', 'g380r', 'g382d', 'g39e', 'g419v', 'g423v', 'g42r', 'g434r', 'g44s', 'g464e', 'g464r', 'g464v', 'g465e', 'g466a', 'g466v', 'g469a', 'g469del', 'g469e', 'g469v', 'g478c', 'g480w', 'g503v', 'g505s', 'g508s', 'g591v', 'g596r', 'g596v', 'g602r', 'g60e', 'g60r', 'g623r', 'g637w', 'g660d', 'g665a', 'g67r', 'g67s', 'g697c', 'g701s', 'g70d', 'g719a', 'g719c', 'g719d', 'g724s', 'g735s', 'g751r', 'g75r', 'g774v', 'g776_v777insyvma', 'g776delinslc', 'g776delinsvc', 'g776s', 'g785s', 'g796s', 'g810s', 'g829r', 'g831e', 'g853d', 'g857a', 'g857e', 'g85r', 'g863d', 'g863s', 'g87r', 'g881d', 'g936r', 'g93w', 'golga4', 'gpiap1', 'h1047l', 'h1047r', 'h1047y', 'h105r', 'h1094l', 'h1094r', 'h1094y', 'h114y', 'h118p', 'h123q', 'h123y', 'h132y', 'h133q', 'h1382y', 'h1421y', 'h1620r', 'h1686q', 'h168n', 'h168r', 'h1746n', 'h174r', 'h179l', 'h179n', 'h1805p', 'h1862l', 'h1904r', 'h1918y', 'h193n', 'h193p', 'h1966y', 'h206d', 'h2074n', 'h214n', 'h214q', 'h214r', 'h233n', 'h2428q', 'h284n', 'h284p', 'h355m', 'h36p', 'h396p', 'h396r', 'h398y', 'h412y', 'h41r', 'h492r', 'h538q', 'h570r', 'h597y', 'h61d', 'h61r', 'h643d', 'h65y', 'h662q', 'h662r', 'h68r', 'h694r', 'h697y', 'h701p', 'h773_v774insh', 'h773dup', 'h773l', 'h773y', 'h78q', 'h83n', 'h83y', 'h845y', 'h870r', 'h875y', 'h876q', 'h93d', 'h93q', 'h93r', 'h94y', 'hip1', 'hmga2', 'hypermethylation', 'i1018w', 'i103n', 'i111a', 'i111n', 'i111p', 'i1170n', 'i1170s', 'i1171n', 'i1171t', 'i1183t', 'i122l', 'i122s', 'i122v', 'i1250t', 'i1307k', 'i130m', 'i1349t', 'i151s', 'i157t', 'i1616n', 'i1616t', 'i162m', 'i1680n', 'i168f', 'i1766s', 'i1807s', 'i18v', 'i195t', 'i219v', 'i21v', 'i2500f', 'i2500m', 'i251s', 'i255f', 'i2627f', 'i2675v', 'i26n', 'i279p', 'i289m', 'i28t', 'i290a', 'i290r', 'i31m', 'i326v', 'i33del', 'i347m', 'i35s', 'i391m', 'i408v', 'i42v', 'i448v', 'i463s', 'i47f', 'i491m', 'i49s', 'i538v', 'i563_l576del', 'i642v', 'i668v', 'i68k', 'i744_k745delinskipvai', 'i767m', 'i834v', 'i836del', 'i843_d846del', 'i843del', 'i853t', 'i867s', 'i89n', 'i89t', 'i90t', 'igh', 'igk', 'igl', 'in', 'insertion', 'insertions', 'internal', 'jak2', 'k101m', 'k1062m', 'k111n', 'k117n', 'k120e', 'k120m', 'k120n', 'k125e', 'k125l', 'k125m', 'k128n', 'k128t', 'k1299e', 'k129e', 'k1434i', 'k1436q', 'k1452n', 'k147e', 'k1690n', 'k1702e', 'k179m', 'k181m', 'k218t', 'k22a', 'k2411t', 'k2472t', 'k2729n', 'k291q', 'k292t', 'k2950n', 'k320e', 'k335i', 'k341a', 'k342n', 'k373e', 'k379e', 'k382e', 'k38n', 'k398a', 'k39n', 'k409q', 'k413e', 'k428a', 'k459_s460delinsn', 'k45q', 'k45t', 'k467t', 'k483e', 'k483m', 'k499e', 'k4e', 'k507a', 'k507q', 'k509i', 'k50e', 'k50l', 'k513r', 'k517r', 'k525e', 'k526e', 'k52r', 'k539l', 'k550_v555delinsi', 'k558_e562del', 'k558_v559del', 'k558delinsnp', 'k558n', 'k56n', 'k575m', 'k57e', 'k57t', 'k590r', 'k59del', 'k5n', 'k601n', 'k601q', 'k603q', 'k607t', 'k62r', 'k641n', 'k648n', 'k650e', 'k650n', 'k650t', 'k656e', 'k659e', 'k659n', 'k666m', 'k666r', 'k700e', 'k700r', 'k745_a750del', 'k753a', 'k753e', 'k753m', 'k765r', 'k78a', 'k78i', 'k79e', 'k806a', 'k82t', 'k830r', 'k83e', 'k83n', 'k935i', 'k975e', 'k97m', 'kank1', 'kdd', 'kdelr2', 'kdr', 'kiaa1509', 'kiaa1549', 'kiaa1967', 'kif5b', 'l1019v', 'l1026f', 'l108p', 'l1122v', 'l112p', 'l112r', 'l1152p', 'l1152r', 'l117p', 'l118p', 'l118r', 'l1195v', 'l1196m', 'l1196q', 'l1198f', 'l1204f', 'l1224f', 'l1267s', 'l1273f', 'l128f', 'l1301r', 'l1407p', 'l142p', 'l1433s', 'l145r', 'l1460p', 'l146r', 'l1574p', 'l1584r', 'l158p', 'l158q', 'l158v', 'l1593p', 'l1596h', 'l1600p', 'l165p', 'l1678p', 'l1705p', 'l1780p', 'l181p', 'l1844r', 'l1854p', 'l188q', 'l188v', 'l1904v', 'l191h', 'l193f', 'l1947r', 'l1951r', 'l202f', 'l209f', 'l2106p', 'l210r', 'l221r', 'l2230v', 'l225li', 'l230p', 'l232li', 'l234fs', 'l2396f', 'l239r', 'l23f', 'l2431p', 'l246v', 'l248v', 'l251p', 'l265p', 'l2721h', 'l272f', 'l274p', 'l283_d294del', 'l2865v', 'l28p', 'l321a', 'l325f', 'l32p', 'l330r', 'l344p', 'l344r', 'l345q', 'l348f', 'l348s', 'l358r', 'l362r', 'l370fs', 'l384m', 'l387m', 'l410r', 'l412f', 'l424i', 'l43v', 'l448p', 'l455m', 'l461v', 'l469v', 'l46f', 'l46r', 'l481f', 'l485_p490del', 'l485_p490delinsf', 'l485_q494del', 'l485f', 'l493p', 'l493v', 'l49h', 'l507p', 'l52f', 'l535p', 'l536h', 'l536p', 'l536q', 'l536r', 'l550p', 'l559r', 'l576del', 'l576p', 'l57v', 'l582f', 'l585i', 'l597q', 'l597r', 'l597v', 'l601_k602insreyeydl', 'l607i', 'l611_e612inscssdneyfyvdfreyeydlkwefprenl', 'l617f', 'l617m', 'l63f', 'l63p', 'l64p', 'l668f', 'l67p', 'l692f', 'l702h', 'l704n', 'l708p', 'l726f', 'l747_a750del', 'l747_a750delinsp', 'l747_p753del', 'l747_p753delinss', 'l747_t751del', 'l747_t751delinsp', 'l747f', 'l747p', 'l747s', 'l749p', 'l755s', 'l770v', 'l783f', 'l785f', 'l78t', 'l790f', 'l792r', 'l826p', 'l82p', 'l830r', 'l833v', 'l838p', 'l838v', 'l844r', 'l858m', 'l858q', 'l858r', 'l861f', 'l861p', 'l861q', 'l861r', 'l910p', 'l915m', 'l929s', 'l97r', 'lima1', 'loss', 'lrig3', 'm1008i', 'm1043i', 'm1043v', 'm117v', 'm1250t', 'm1255i', 'm1293a', 'm1328i', 'm134l', 'm136r', 'm1400v', 'm1411t', 'm160v', 'm1628v', 'm1652k', 'm1652t', 'm1663k', 'm1689r', 'm1689t', 'm1775e', 'm1775k', 'm1783i', 'm1783l', 'm1783t', 'm18k', 'm18t', 'm199del', 'm1_e165del', 'm1k', 'm1r', 'm1t', 'm1v', 'm224r', 'm232t', 'm2676t', 'm299i', 'm351t', 'm374v', 'm504v', 'm535i', 'm53i', 'm552_k558del', 'm552_w557del', 'm664i', 'm737i', 'm784v', 'm887i', 'm90i', 'm918v', 'm980t', 'magi3', 'mamld1', 'met', 'mgea5', 'mir143', 'missense', 'mkrn1', 'mll', 'moz', 'mprip', 'msn', 'mutations', 'myc', 'n1026s', 'n1068fs', 'n1100y', 'n1102y', 'n116h', 'n1178h', 'n1228d', 'n1236k', 'n126d', 'n132k', 'n1333gfs', 'n1647k', 'n1730s', 'n1819y', 'n181s', 'n1878k', 'n198_f199delinsi', 'n2113s', 'n217i', 'n219d', 'n233y', 'n234i', 'n235d', 'n238s', 'n239s', 'n2436i', 'n276s', 'n296i', 'n319d', 'n319t', 'n334k', 'n345i', 'n372h', 'n375s', 'n382h', 'n387k', 'n387p', 'n454d', 'n45s', 'n463s', 'n486_p490del', 'n48k', 'n505i', 'n517s', 'n535k', 'n53a', 'n540s', 'n542_e543del', 'n546k', 'n549t', 'n551k', 'n561d', 'n564d', 'n56t', 'n581d', 'n581y', 'n588d', 'n653h', 'n655k', 'n659k', 'n659r', 'n659s', 'n676d', 'n676k', 'n676s', 'n71i', 'n71k', 'n771_h773dup', 'n78s', 'n810y', 'n81y', 'n822i', 'n822y', 'n826y', 'n82k', 'n841i', 'n848k', 'n857s', 'n870s', 'n987i', 'nfasc', 'nin', 'nkx2', 'notch1', 'npm', 'ntrk1', 'ntrk3', 'number', 'nut', 'of', 'overexpression', 'p106l', 'p1139s', 'p114l', 'p123m', 'p124q', 'p124s', 'p130s', 'p1311t', 'p133t', 'p142h', 'p151a', 'p151h', 'p151s', 'p152l', 'p153h', 'p1614s', 'p169h', 'p173s', 'p1749r', 'p1771l', 'p1771r', 'p1776s', 'p179r', 'p1806a', 'p1812s', 'p1856t', 'p1859r', 'p186s', 'p214l', 'p219s', 'p2412t', 'p2415del', 'p2417a', 'p250l', 'p253r', 'p25l', 'p262h', 'p26s', 'p278a', 'p278l', 'p284l', 'p286h', 'p286r', 'p287t', 'p291qfs', 'p29l', 'p305l', 'p306h', 'p316l', 'p326l', 'p34r', 'p380r', 'p387s', 'p38l', 'p395a', 'p417a', 'p42t', 'p449t', 'p44a', 'p44l', 'p463l', 'p47a', 'p47s', 'p480l', 'p48l', 'p48r', 'p48t', 'p491s', 'p525l', 'p531a', 'p531l', 'p531s', 'p539r', 'p551_e554del', 'p551_v555del', 'p551_w557delinsl', 'p573_d579del', 'p577_d579del', 'p577_w582delinspyd', 'p577s', 'p596l', 'p61braf', 'p648l', 'p648s', 'p654l', 'p655r', 'p691s', 'p704s', 'p70r', 'p753s', 'p798l', 'p81l', 'p81t', 'p83l', 'p848l', 'p85l', 'p86h', 'p96q', 'pax5', 'pax8', 'pcm1', 'pde4dip', 'pdgfra', 'pdgfrb', 'pest', 'pik3cb', 'ppar', 'pphln1', 'prkg2', 'promoter', 'ptprz1', 'pvt1', 'q1064r', 'q120e', 'q12y', 'q1396r', 'q145h', 'q1500p', 'q1503p', 'q1554h', 'q164r', 'q1756c', 'q1756fs', 'q1785h', 'q1811r', 'q1826h', 'q201h', 'q209l', 'q227l', 'q227r', 'q22e', 'q22k', 'q22r', 'q233', 'q2384k', 'q2405rfs', 'q2416', 'q249e', 'q252h', 'q276', 'q2858r', 'q324l', 'q331r', 'q337', 'q367p', 'q429', 'q472h', 'q477e', 'q50', 'q50p', 'q510e', 'q545a', 'q546e', 'q546k', 'q546r', 'q556_k558del', 'q56_v60del', 'q56p', 'q579_l581del', 'q579r', 'q58_q59insl', 'q58l', 'q59e', 'q60k', 'q61h', 'q61k', 'q61l', 'q61r', 'q635e', 'q689r', 'q72l', 'q79e', 'q79r', 'q809r', 'q96p', 'q984k', 'r100', 'r100a', 'r100t', 'r1040l', 'r1060h', 'r1076c', 'r1088c', 'r108h', 'r108k', 'r1093', 'r1095h', 'r1097h', 'r110p', 'r112g', 'r115l', 'r1190w', 'r1192p', 'r11k', 'r1204g', 'r1204w', 'r1209w', 'r121q', 'r1231q', 'r1262a', 'r1275l', 'r1276p', 'r1276q', 'r130g', 'r130k', 'r132c', 'r132g', 'r132h', 'r132q', 'r133', 'r133h', 'r1343l', 'r134q', 'r1391g', 'r1391s', 'r139g', 'r143q', 'r1446h', 'r1464', 'r1515h', 'r154w', 'r156c', 'r156h', 'r1589h', 'r1589p', 'r158c', 'r158h', 'r158l', 'r1594q', 'r1598p', 'r159g', 'r15s', 'r1608s', 'r161g', 'r162', 'r1625c', 'r1627', 'r164q', 'r166q', 'r167q', 'r167w', 'r1699l', 'r1699q', 'r1699w', 'r170w', 'r1726g', 'r172g', 'r172k', 'r172s', 'r173h', 'r173p', 'r174', 'r1751p', 'r1751q', 'r1753t', 'r1758g', 'r175c', 'r175h', 'r175l', 'r177', 'r177pfs', 'r181c', 'r181h', 'r181l', 'r182w', 'r1835p', 'r183g', 'r1896m', 'r18h', 'r200w', 'r201c', 'r201h', 'r201q', 'r202s', 'r203c', 'r206h', 'r20q', 'r213q', 'r228k', 'r2304c', 'r2318q', 'r2336h', 'r2336p', 'r23a', 'r2418g', 'r2430m', 'r243a', 'r2450', 'r246k', 'r248k', 'r248q', 'r249m', 'r249s', 'r24p', 'r2502c', 'r2502h', 'r2505', 'r2505q', 'r2520q', 'r258c', 'r258h', 'r2602t', 'r262t', 'r264c', 'r2659k', 'r2659t', 'r265c', 'r265s', 'r267p', 'r267q', 'r268a', 'r273c', 'r273h', 'r273l', 'r276w', 'r2784w', 'r280k', 'r280t', 'r282q', 'r283q', 'r2842c', 'r2842h', 'r287a', 'r2888c', 'r290h', 'r292a', 'r304', 'r3052w', 'r306s', 'r310h', 'r320q', 'r321q', 'r324l', 'r337c', 'r337h', 'r337l', 'r337p', 'r339w', 'r342p', 'r342q', 'r348', 'r361c', 'r368c', 'r369q', 'r370c', 'r373h', 'r373q', 'r378a', 'r380a', 'r383', 'r38h', 'r415g', 'r420h', 'r421', 'r428a', 'r441p', 'r453c', 'r462c', 'r462i', 'r465h', 'r470c', 'r479h', 'r479l', 'r479q', 'r481g', 'r482q', 'r487', 'r487q', 'r48w', 'r496c', 'r496h', 'r497h', 'r498l', 'r49l', 'r505c', 'r505l', 'r506_k507insvlr', 'r514c', 'r515g', 'r537p', 'r544s', 'r544w', 'r552g', 'r561c', 'r571w', 'r574fs', 'r583a', 'r5q', 'r601q', 'r625g', 'r625h', 'r631c', 'r634w', 'r640g', 'r647a', 'r64p', 'r659', 'r659p', 'r661w', 'r669c', 'r669g', 'r671q', 'r678q', 'r680', 'r683t', 'r689q', 'r689s', 'r698w', 'r69c', 'r711', 'r71g', 'r724h', 'r725c', 'r732q', 'r748g', 'r796g', 'r79p', 'r80c', 'r80p', 'r82p', 'r833c', 'r834q', 'r838q', 'r841k', 'r841q', 'r844h', 'r866c', 'r873q', 'r87l', 'r87p', 'r882c', 'r882l', 'r886w', 'r88q', 'r897q', 'r905g', 'r905q', 'r93q', 'r93w', 'r976h', 'r99p', 'rad51', 'rad51b', 'raf1', 'ranbp1', 'ranbp2', 'rara', 'ret', 'ros1', 'runx1', 'runx1t1', 's1002r', 's100f', 's102f', 's1036p', 's10n', 's1140g', 's1172l', 's119n', 's1206r', 's1206y', 's121a', 's121c', 's1290a', 's1297del', 's1301r', 's1424c', 's142i', 's1463f', 's1473p', 's1497a', 's1512i', 's151a', 's1613c', 's1613g', 's1651f', 's1651p', 's1653f', 's1655f', 's1670a', 's170n', 's1715c', 's1715n', 's1715r', 's1841a', 's1841n', 's186y', 's1986f', 's1986y', 's214a', 's214t', 's215g', 's217a', 's217c', 's217t', 's2215f', 's2215t', 's2215y', 's222d', 's226d', 's227f', 's23r', 's240r', 's241l', 's241t', 's243c', 's243n', 's247y', 's249c', 's24f', 's250p', 's256f', 's256w', 's257w', 's259a', 's259f', 's259p', 's2670l', 's267_d273dup', 's270l', 's273c', 's276l', 's279y', 's2g', 's308a', 's310f', 's310y', 's31r', 's326r', 's32i', 's335c', 's33y', 's34f', 's34y', 's362l', 's3660l', 's36y', 's376f', 's37a', 's37c', 's37y', 's384f', 's387y', 's425c', 's427g', 's428f', 's432l', 's451e', 's451f', 's453fs', 's459del', 's459f', 's45del', 's45f', 's45y', 's462y', 's463p', 's464l', 's46i', 's476i', 's478p', 's492r', 's4f', 's4p', 's501_a502dup', 's502t', 's505n', 's562l', 's56i', 's59r', 's645c', 's646f', 's653c', 's65a', 's65l', 's65n', 's68w', 's703i', 's723f', 's729c', 's72r', 's760a', 's765p', 's768_d770dup', 's768_v769insvas', 's768i', 's783p', 's786f', 's80r', 's840_n841insgs', 's858r', 's860l', 's869l', 's891a', 's921r', 'sdc4', 'silencing', 'snd1', 'spag9', 'splice', 'sptbn1', 'srgap3', 'ssbp2', 'strn', 't1025s', 't1087i', 't1151m', 't1203k', 't123a', 't131a', 't131i', 't131l', 't1343i', 't1354m', 't1365m', 't1481fs', 't150i', 't160i', 't1623i', 't167a', 't1685a', 't1685i', 't1691i', 't1691k', 't1720a', 't1720i', 't1852s', 't195i', 't1977i', 't1977k', 't1977s', 't19n', 't205a', 't2250a', 't241m', 't241p', 't244_i245inscpt', 't244r', 't24a', 't263p', 't2681r', 't2722r', 't283a', 't286a', 't28i', 't319del', 't3349a', 't340a', 't37r', 't389k', 't401i', 't413n', 't417_d419delinsi', 't417i', 't41a', 't468m', 't47d', 't485k', 't488_p492del', 't507k', 't50i', 't529i', 't529n', 't574_r588delinsl', 't574instqlpyd', 't582p', 't58i', 't599_v600inseat', 't599_v600insv', 't599dup', 't599r', 't605m', 't630i', 't654m', 't670i', 't674i', 't710a', 't725m', 't730s', 't733i', 't73i', 't74p', 't75m', 't779fs', 't77p', 't785a', 't790m', 't798i', 't798m', 't80a', 't80r', 't82a', 't844m', 't875n', 't878a', 't878s', 't910m', 't992i', 'tacc1', 'tacc3', 'tandem', 'tel', 'tet1', 'tgfbr1', 'the', 'tmprss2', 'tp53bp1', 'tpr', 'tra', 'transactivation', 'trim24', 'trkaiii', 'truncating', 'upstream', 'v1070e', 'v1075yfs', 'v1092i', 'v109g', 'v1180l', 'v1188l', 'v118d', 'v126d', 'v128del', 'v1378i', 'v1398d', 'v143a', 'v14i', 'v1534m', 'v155a', 'v1565i', 'v1576e', 'v1578del', 'v157d', 'v157f', 'v1605del', 'v1643a', 'v1653m', 'v1671i', 'v1673d', 'v1673f', 'v1676d', 'v1688del', 'v1713a', 'v1714g', 'v1736a', 'v1736g', 'v173e', 'v173l', 'v1741g', 'v1804a', 'v1808a', 'v1809a', 'v1809f', 'v1833e', 'v1833m', 'v1838e', 'v194m', 'v197e', 'v197l', 'v2006i', 'v2006l', 'v2098i', 'v211d', 'v217d', 'v220f', 'v242f', 'v248d', 'v270a', 'v271a', 'v271l', 'v272l', 'v274f', 'v277d', 'v289f', 'v2908g', 'v2969m', 'v299l', 'v3079i', 'v319d', 'v321m', 'v32g', 'v343e', 'v343l', 'v344a', 'v348l', 'v354e', 'v356r', 'v369g', 'v370d', 'v379i', 'v411l', 'v422del', 'v430m', 'v45l', 'v465m', 'v471f', 'v487_p492delinsa', 'v506a', 'v509a', 'v534e', 'v536e', 'v544_l545insavlvllviviisli', 'v550e', 'v555_v559del', 'v555m', 'v557i', 'v559_v560del', 'v559a', 'v559c', 'v559d', 'v559del', 'v559g', 'v560d', 'v560e', 'v560g', 'v561_i562inser', 'v561a', 'v561d', 'v564i', 'v569_l576del', 'v579a', 'v592a', 'v597a', 'v600d', 'v600d_k601insfglat', 'v600g', 'v600k', 'v600m', 'v600r', 'v60e', 'v648g', 'v648i', 'v658f', 'v7', 'v705e', 'v705m', 'v710a', 'v714m', 'v716m', 'v726m', 'v742a', 'v750e', 'v755i', 'v769_d770insgvv', 'v769e', 'v769m', 'v773a', 'v774m', 'v777a', 'v777l', 'v777m', 'v794m', 'v804l', 'v804m', 'v842i', 'v843i', 'v84l', 'v851a', 'v852i', 'v894i', 'v995m', 'variant', 'w1291r', 'w131a', 'w131g', 'w1456r', 'w1502a', 'w1718c', 'w1718l', 'w1782c', 'w1837c', 'w1837r', 'w183a', 'w237_y242del', 'w24c', 'w24r', 'w24s', 'w257c', 'w2626c', 'w279', 'w290_i291delinsc', 'w308c', 'w345', 'w349c', 'w383r', 'w509r', 'w515k', 'w515l', 'w531c', 'w535l', 'w557_k558del', 'w557_v560del', 'w557g', 'w563l', 'w603_e604insdreyeydlkw', 'w714', 'w719', 'w731l', 'w742l', 'w802', 'w80a', 'wdr48', 'wildtype', 'wt1', 'x1007_splice', 'x1008_splice', 'x1009_splice', 'x434_splice', 'x475_splice', 'x963_splice', 'y1003', 'y1003c', 'y1003f', 'y1035c', 'y1045', 'y1045w', 'y105c', 'y112h', 'y1230c', 'y1230h', 'y1235d', 'y1248f', 'y1278s', 'y1294a', 'y1295a', 'y130c', 'y1414c', 'y149d', 'y155c', 'y163c', 'y16c', 'y1703h', 'y1703s', 'y174n', 'y1853', 'y220c', 'y220s', 'y234c', 'y236c', 'y236d', 'y236s', 'y237a', 'y238a', 'y253f', 'y253h', 'y27s', 'y280h', 'y297a', 'y298a', 'y3092c', 'y3098h', 'y32s', 'y34c', 'y353l', 'y35c', 'y35h', 'y364h', 'y371h', 'y371s', 'y373c', 'y375_k455del', 'y375c', 'y384a', 'y406h', 'y418_d419del', 'y426a', 'y42c', 'y472c', 'y472h', 'y489c', 'y510c', 'y513a', 'y532c', 'y537s', 'y551f', 'y553_q556del', 'y553n', 'y555c', 'y570h', 'y578c', 'y591d', 'y598c', 'y599_d600inseyeyeyey', 'y599_d600insglyvdfreyey', 'y599_d600inspapqimststlisenmnia', 'y599_d600insstdneyfyvdfreyey', 'y599f', 'y63c', 'y646c', 'y646f', 'y646h', 'y646n', 'y646s', 'y647c', 'y64a', 'y652h', 'y65c', 'y68d', 'y68h', 'y772_a775dup', 'y791f', 'y801h', 'y806c', 'y823d', 'y835f', 'y842c', 'y846c', 'y849c', 'y87c', 'y87n', 'y901c', 'y931c', 'y98h', 'y98n', 'yap1', 'yy1', 'zc3h7b']\n"
     ]
    },
    {
     "name": "stdout",
     "output_type": "stream",
     "text": [
      "====================================================================================================\n"
     ]
    }
   ],
   "source": [
    "#One-hot encoding of Gene feature.\n",
    "variation_vectorizer = CountVectorizer(binary=True)\n",
    "\n",
    "X_train_variation_ohe = variation_vectorizer.fit_transform(X_train['Variation'])\n",
    "X_test_variation_ohe = variation_vectorizer.transform(X_test['Variation'])\n",
    "\n",
    "print(\"After One-Hot-Encoding of Gene Feature: \")\n",
    "print(X_train_variation_ohe.shape, y_train.shape)\n",
    "print(X_test_variation_ohe.shape, y_test.shape)\n",
    "print(variation_vectorizer.get_feature_names())\n",
    "print(\"=\"*100)"
   ]
  },
  {
   "cell_type": "markdown",
   "metadata": {},
   "source": [
    "# 8. Concatenating All Features.\n",
    "\n",
    "<a id='concat'></a>"
   ]
  },
  {
   "cell_type": "markdown",
   "metadata": {},
   "source": [
    "### 8.1. Concatenating for Bag of Words.\n",
    "\n",
    "<a id='concatbow'></a>"
   ]
  },
  {
   "cell_type": "code",
   "execution_count": 27,
   "metadata": {},
   "outputs": [
    {
     "name": "stdout",
     "output_type": "stream",
     "text": [
      "Final Data matrix which will be used as input to all algorithms: \n",
      "(2652, 31955) (2652,)\n",
      "(664, 31955) (664,)\n",
      "====================================================================================================\n"
     ]
    }
   ],
   "source": [
    "from scipy.sparse import hstack\n",
    "\n",
    "X_train_bow = hstack((X_train_medical_text_bow, X_train_gene_ohe, X_train_variation_ohe)).tocsr()\n",
    "X_test_bow = hstack((X_test_medical_text_bow, X_test_gene_ohe, X_test_variation_ohe)).tocsr()\n",
    "\n",
    "print(\"Final Data matrix which will be used as input to all algorithms: \")\n",
    "print(X_train_bow.shape, y_train.shape)\n",
    "print(X_test_bow.shape, y_test.shape)\n",
    "print(\"=\"*100)"
   ]
  },
  {
   "cell_type": "markdown",
   "metadata": {},
   "source": [
    "### 8.2. Concatenating for TF-IDF.\n",
    "\n",
    "<a id='concattfidf'></a>"
   ]
  },
  {
   "cell_type": "code",
   "execution_count": 28,
   "metadata": {},
   "outputs": [
    {
     "name": "stdout",
     "output_type": "stream",
     "text": [
      "Final Data matrix which will be used as input to all algorithms: \n",
      "(2652, 31955) (2652,)\n",
      "(664, 31955) (664,)\n",
      "====================================================================================================\n"
     ]
    }
   ],
   "source": [
    "X_train_tfidf = hstack((X_train_medical_text_tfidf, X_train_gene_ohe, X_train_variation_ohe)).tocsr()\n",
    "X_test_tfidf = hstack((X_test_medical_text_tfidf, X_test_gene_ohe, X_test_variation_ohe)).tocsr()\n",
    "\n",
    "print(\"Final Data matrix which will be used as input to all algorithms: \")\n",
    "print(X_train_tfidf.shape, y_train.shape)\n",
    "print(X_test_tfidf.shape, y_test.shape)\n",
    "print(\"=\"*100)"
   ]
  },
  {
   "cell_type": "markdown",
   "metadata": {},
   "source": [
    "# 9. Applying Naive Bayes\n",
    "\n",
    "<a id='nb'></a>"
   ]
  },
  {
   "cell_type": "markdown",
   "metadata": {},
   "source": [
    "## 9.1. Set-1: preprocessed_medical_text (BoW) + categorical feature (GENE) + categorical feature (VARIATION)\n",
    "\n",
    "<a id='nbset1'></a>"
   ]
  },
  {
   "cell_type": "markdown",
   "metadata": {},
   "source": [
    "### 9.1.1. Training the matrix with different hyper-parameters.\n",
    "\n",
    "<a id='nbtrain'></a>"
   ]
  },
  {
   "cell_type": "code",
   "execution_count": 58,
   "metadata": {},
   "outputs": [
    {
     "name": "stdout",
     "output_type": "stream",
     "text": [
      "***Logloss while training with Naive Bayes*** \n",
      "\n",
      "*** Set 1 (Bag-of-Words Encoding of Medical Text)*** \n",
      "\n",
      "For alpha = 1e-05\n",
      "Log Loss : 1.2636815276040476\n",
      "For alpha = 0.0001\n",
      "Log Loss : 1.264328859870972\n",
      "For alpha = 0.001\n",
      "Log Loss : 1.2733282236016814\n",
      "For alpha = 0.1\n",
      "Log Loss : 1.2923463745174795\n",
      "For alpha = 1\n",
      "Log Loss : 1.291511406209013\n",
      "For alpha = 10\n",
      "Log Loss : 1.3155539560903213\n",
      "For alpha = 100\n",
      "Log Loss : 1.630899190698445\n",
      "For alpha = 1000\n",
      "Log Loss : 1.770077966676224\n",
      "Wall time: 16.7 s\n"
     ]
    }
   ],
   "source": [
    "%%time\n",
    "\n",
    "from sklearn.naive_bayes import MultinomialNB\n",
    "from sklearn.calibration import CalibratedClassifierCV\n",
    "from sklearn.metrics.classification import accuracy_score, log_loss\n",
    "\n",
    "alpha = [0.00001, 0.0001, 0.001, 0.1, 1, 10, 100,1000]\n",
    "\n",
    "test_log_error_array = []\n",
    "\n",
    "print('***Logloss while training with Naive Bayes*** \\n')\n",
    "print('*** Set 1 (Bag-of-Words Encoding of Medical Text)*** \\n')\n",
    "\n",
    "for i in alpha:\n",
    "    print(\"For alpha =\", i)\n",
    "    model = MultinomialNB(alpha=i)\n",
    "    model.fit(X_train_bow, y_train)\n",
    "    \n",
    "    sig_clf = CalibratedClassifierCV(model, method=\"sigmoid\")\n",
    "    sig_clf.fit(X_train_bow, y_train)\n",
    "    \n",
    "    sig_clf_probs = sig_clf.predict_proba(X_test_bow)\n",
    "    \n",
    "    test_log_error_array.append(log_loss(y_test, sig_clf_probs, labels=model.classes_))\n",
    "    \n",
    "    print(\"Log Loss :\", log_loss(y_test, sig_clf_probs)) "
   ]
  },
  {
   "cell_type": "markdown",
   "metadata": {},
   "source": [
    "### 9.1.2. Testing the matrix with the best hyper-parameter.\n",
    "\n",
    "<a id='nbtest'></a>"
   ]
  },
  {
   "cell_type": "code",
   "execution_count": 81,
   "metadata": {},
   "outputs": [
    {
     "name": "stdout",
     "output_type": "stream",
     "text": [
      "***Logloss while testing with Naive Bayes*** \n",
      "\n",
      "*** Set 1 (Bag-of-Words Encoding of Medical Text)*** \n",
      "\n",
      "Log Loss : 1.770077966676224\n",
      "Wall time: 1.87 s\n"
     ]
    }
   ],
   "source": [
    "%%time\n",
    "\n",
    "best_alpha = 0.00001\n",
    "\n",
    "clf = MultinomialNB(alpha=best_alpha)\n",
    "clf.fit(X_train_bow, y_train)\n",
    "sig_clf_test = CalibratedClassifierCV(clf, method=\"sigmoid\")\n",
    "\n",
    "sig_clf_test.fit(X_train_bow, y_train)\n",
    "sig_clf_probs = sig_clf.predict_proba(X_test_bow)\n",
    "\n",
    "print('***Logloss while testing with Naive Bayes*** \\n')\n",
    "print('*** Set 1 (Bag-of-Words Encoding of Medical Text)*** \\n')\n",
    "print(\"Log Loss :\",log_loss(y_test, sig_clf_probs))"
   ]
  },
  {
   "cell_type": "code",
   "execution_count": 74,
   "metadata": {},
   "outputs": [
    {
     "name": "stdout",
     "output_type": "stream",
     "text": [
      "*** Set 1 of Naive Bayes (Bag-of-Words Encoding of Medical Text)*** \n",
      "\n",
      "***Analyzing the acutal and predicted class by taking a test datapoint*** \n",
      "\n",
      "Predicted Class : Gain-of-function\n",
      "Predicted Class Probabilities: [0.61522791 0.03814413 0.0837725  0.08099966 0.03923457 0.00544302\n",
      " 0.12026088 0.01419579 0.00272154]\n",
      "Actual Class : Gain-of-function\n",
      "**************************************************\n",
      "Gain-of-function 0.615227906815719\n",
      "Inconclusive 0.03814413038824605\n",
      "Likely Gain-of-function 0.0837724962346252\n",
      "Likely Loss-of-function 0.08099966344887025\n",
      "Likely Neutral 0.03923457215181567\n",
      "Likely Switch-of-function 0.005443020782834237\n",
      "Loss-of-function 0.1202608764220242\n",
      "Neutral 0.014195790219329055\n",
      "Switch-of-function 0.0027215435365362203\n"
     ]
    }
   ],
   "source": [
    "print('*** Set 1 of Naive Bayes (Bag-of-Words Encoding of Medical Text)*** \\n')\n",
    "print('***Analyzing the acutal and predicted class by taking a test datapoint*** \\n')\n",
    "\n",
    "test_datapoint_index = 210\n",
    "predicted_cls = sig_clf_test.predict(X_test_bow[test_datapoint_index])\n",
    "\n",
    "print(\"Predicted Class :\", predicted_cls[0])\n",
    "\n",
    "#flatten because it gave a 2D array. Needs to be converted to 1D\n",
    "predicted_prob = sig_clf_test.predict_proba(X_test_bow[test_datapoint_index]).flatten()\n",
    "\n",
    "print(\"Predicted Class Probabilities:\", predicted_prob)\n",
    "print(\"Actual Class :\", y_test[test_datapoint_index])\n",
    "\n",
    "print('*'*50)\n",
    "      \n",
    "print(model.classes_[0], predicted_prob[0])\n",
    "print(model.classes_[1], predicted_prob[1])\n",
    "print(model.classes_[2], predicted_prob[2])\n",
    "print(model.classes_[3], predicted_prob[3])\n",
    "print(model.classes_[4], predicted_prob[4])\n",
    "print(model.classes_[5], predicted_prob[5])\n",
    "print(model.classes_[6], predicted_prob[6])\n",
    "print(model.classes_[7], predicted_prob[7])\n",
    "print(model.classes_[8], predicted_prob[8])"
   ]
  },
  {
   "cell_type": "code",
   "execution_count": 96,
   "metadata": {},
   "outputs": [
    {
     "data": {
      "text/plain": [
       "array(['Gain-of-function', 'Inconclusive', 'Likely Gain-of-function',\n",
       "       'Likely Loss-of-function', 'Likely Neutral',\n",
       "       'Likely Switch-of-function', 'Loss-of-function', 'Neutral',\n",
       "       'Switch-of-function'], dtype='<U25')"
      ]
     },
     "execution_count": 96,
     "metadata": {},
     "output_type": "execute_result"
    }
   ],
   "source": [
    "model.classes_"
   ]
  },
  {
   "cell_type": "code",
   "execution_count": 99,
   "metadata": {},
   "outputs": [
    {
     "name": "stdout",
     "output_type": "stream",
     "text": [
      "\t\t Classification Report for Naive Bayes \n",
      "\n",
      "\t\t *** Set 1 (Bag-of-Words Encoding of Medical Text)*** \n",
      "\n",
      "                           precision    recall  f1-score   support\n",
      "\n",
      "         Gain-of-function       0.69      0.76      0.73       207\n",
      "             Inconclusive       0.79      0.56      0.65        54\n",
      "  Likely Gain-of-function       0.55      0.65      0.59        93\n",
      "  Likely Loss-of-function       0.52      0.61      0.56       107\n",
      "           Likely Neutral       0.44      0.46      0.45        52\n",
      "Likely Switch-of-function       0.00      0.00      0.00         2\n",
      "         Loss-of-function       0.78      0.50      0.61       123\n",
      "                  Neutral       0.55      0.63      0.59        19\n",
      "       Switch-of-function       0.60      0.86      0.71         7\n",
      "\n",
      "                 accuracy                           0.63       664\n",
      "                macro avg       0.55      0.56      0.54       664\n",
      "             weighted avg       0.64      0.63      0.63       664\n",
      "\n"
     ]
    },
    {
     "data": {
      "image/png": "[encoded data removed]",
      "text/plain": [
       "<Figure size 1080x720 with 2 Axes>"
      ]
     },
     "metadata": {},
     "output_type": "display_data"
    }
   ],
   "source": [
    "from sklearn.metrics import confusion_matrix \n",
    "from sklearn.metrics import accuracy_score \n",
    "from sklearn.metrics import classification_report \n",
    "\n",
    "print('\\t\\t Classification Report for Naive Bayes \\n')\n",
    "print('\\t\\t *** Set 1 (Bag-of-Words Encoding of Medical Text)*** \\n')\n",
    "\n",
    "y_predicted = sig_clf_test.predict(X_test_bow)\n",
    "\n",
    "#lets make a confusion matrix to view our real data (y_test) and predicted data (y_predicted)\n",
    "cm = confusion_matrix(y_test, y_predicted)\n",
    "fig, ax = plt.subplots(figsize=(15,10))\n",
    "\n",
    "sns.heatmap(cm, annot = True, ax=ax, annot_kws={\"size\": 15})\n",
    "\n",
    "#lets make a classification report.\n",
    "print(classification_report(y_test, y_predicted))"
   ]
  },
  {
   "cell_type": "markdown",
   "metadata": {},
   "source": [
    "## 9.2. Set-2: preprocessed_medical_text (TFIDF) + categorical feature (GENE) + categorical feature (VARIATION)\n",
    "\n",
    "<a id='nbset2'></a>"
   ]
  },
  {
   "cell_type": "code",
   "execution_count": 86,
   "metadata": {},
   "outputs": [
    {
     "name": "stdout",
     "output_type": "stream",
     "text": [
      "***Logloss while training with Naive Bayes*** \n",
      "\n",
      "*** Set 2 (TFIDF Encoding of Medical Text)*** \n",
      "\n",
      "For alpha = 1e-05\n",
      "Log Loss : 1.118747587590264\n",
      "For alpha = 0.0001\n",
      "Log Loss : 1.122834489762822\n",
      "For alpha = 0.001\n",
      "Log Loss : 1.1284500497177294\n",
      "For alpha = 0.1\n",
      "Log Loss : 1.1345079422946664\n",
      "For alpha = 1\n",
      "Log Loss : 1.1827817967191778\n",
      "For alpha = 10\n",
      "Log Loss : 1.205266175722701\n",
      "For alpha = 100\n",
      "Log Loss : 1.236161575057107\n",
      "For alpha = 1000\n",
      "Log Loss : 1.2447331701087276\n",
      "Wall time: 14.2 s\n"
     ]
    }
   ],
   "source": [
    "%%time\n",
    "\n",
    "from sklearn.naive_bayes import MultinomialNB\n",
    "from sklearn.calibration import CalibratedClassifierCV\n",
    "from sklearn.metrics.classification import accuracy_score, log_loss\n",
    "\n",
    "alpha = [0.00001, 0.0001, 0.001, 0.1, 1, 10, 100,1000]\n",
    "\n",
    "test_log_error_array = []\n",
    "\n",
    "print('***Logloss while training with Naive Bayes*** \\n')\n",
    "print('*** Set 2 (TFIDF Encoding of Medical Text)*** \\n')\n",
    "\n",
    "for i in alpha:\n",
    "    print(\"For alpha =\", i)\n",
    "    model = MultinomialNB(alpha=i)\n",
    "    model.fit(X_train_tfidf, y_train)\n",
    "    \n",
    "    sig_clf = CalibratedClassifierCV(model, method=\"sigmoid\")\n",
    "    sig_clf.fit(X_train_tfidf, y_train)\n",
    "    \n",
    "    sig_clf_probs = sig_clf.predict_proba(X_test_tfidf)\n",
    "    \n",
    "    test_log_error_array.append(log_loss(y_test, sig_clf_probs, labels=model.classes_))\n",
    "    \n",
    "    print(\"Log Loss :\", log_loss(y_test, sig_clf_probs)) "
   ]
  },
  {
   "cell_type": "code",
   "execution_count": 87,
   "metadata": {},
   "outputs": [
    {
     "name": "stdout",
     "output_type": "stream",
     "text": [
      "***Logloss while testing with Naive Bayes*** \n",
      "\n",
      "*** Set 2 (TFIDF Encoding of Medical Text)*** \n",
      "\n",
      "Log Loss : 1.2447331701087276\n",
      "Wall time: 1.85 s\n"
     ]
    }
   ],
   "source": [
    "%%time\n",
    "\n",
    "best_alpha = 0.00001\n",
    "\n",
    "clf = MultinomialNB(alpha=best_alpha)\n",
    "clf.fit(X_train_tfidf, y_train)\n",
    "\n",
    "sig_clf_test = CalibratedClassifierCV(clf, method=\"sigmoid\")\n",
    "sig_clf_test.fit(X_train_bow, y_train)\n",
    "sig_clf_probs = sig_clf.predict_proba(X_test_tfidf)\n",
    "\n",
    "print('***Logloss while testing with Naive Bayes*** \\n')\n",
    "print('*** Set 2 (TFIDF Encoding of Medical Text)*** \\n')\n",
    "print(\"Log Loss :\",log_loss(y_test, sig_clf_probs))"
   ]
  },
  {
   "cell_type": "code",
   "execution_count": 94,
   "metadata": {},
   "outputs": [
    {
     "name": "stdout",
     "output_type": "stream",
     "text": [
      "*** Set 2 of Naive Bayes (TFIDF Encoding of Medical Text)*** \n",
      "\n",
      "***Analyzing the acutal and predicted class by taking a test datapoint*** \n",
      "\n",
      "Predicted Class : Gain-of-function\n",
      "Predicted Class Probabilities: [0.45763311 0.03970984 0.08927002 0.11417961 0.04126393 0.00576789\n",
      " 0.23463216 0.01462868 0.00291476]\n",
      "Actual Class : Neutral\n",
      "**************************************************\n",
      "Gain-of-function 0.4576331098860556\n",
      "Inconclusive 0.039709841895300475\n",
      "Likely Gain-of-function 0.08927002410838303\n",
      "Likely Loss-of-function 0.11417961049059268\n",
      "Likely Neutral 0.04126392660374185\n",
      "Likely Switch-of-function 0.005767891284596211\n",
      "Loss-of-function 0.2346321618572992\n",
      "Neutral 0.014628677829140381\n",
      "Switch-of-function 0.0029147560448904886\n"
     ]
    }
   ],
   "source": [
    "print('*** Set 2 of Naive Bayes (TFIDF Encoding of Medical Text)*** \\n')\n",
    "print('***Analyzing the acutal and predicted class by taking a test datapoint*** \\n')\n",
    "\n",
    "test_datapoint_index = 303\n",
    "predicted_cls = sig_clf_test.predict(X_test_tfidf[test_datapoint_index])\n",
    "\n",
    "print(\"Predicted Class :\", predicted_cls[0])\n",
    "\n",
    "#flatten because it gave a 2D array. Needs to be converted to 1D\n",
    "predicted_prob = sig_clf_test.predict_proba(X_test_tfidf[test_datapoint_index]).flatten()\n",
    "\n",
    "print(\"Predicted Class Probabilities:\", predicted_prob)\n",
    "print(\"Actual Class :\", y_test[test_datapoint_index])\n",
    "\n",
    "print('*'*50)\n",
    "\n",
    "print(model.classes_[0], predicted_prob[0])\n",
    "print(model.classes_[1], predicted_prob[1])\n",
    "print(model.classes_[2], predicted_prob[2])\n",
    "print(model.classes_[3], predicted_prob[3])\n",
    "print(model.classes_[4], predicted_prob[4])\n",
    "print(model.classes_[5], predicted_prob[5])\n",
    "print(model.classes_[6], predicted_prob[6])\n",
    "print(model.classes_[7], predicted_prob[7])\n",
    "print(model.classes_[8], predicted_prob[8])"
   ]
  },
  {
   "cell_type": "code",
   "execution_count": 95,
   "metadata": {},
   "outputs": [
    {
     "name": "stdout",
     "output_type": "stream",
     "text": [
      "\t\t Classification Report for Naive Bayes \n",
      "\n",
      "\t\t *** Set 2 (TFIDF Encoding of Medical Text)*** \n",
      "\n",
      "                           precision    recall  f1-score   support\n",
      "\n",
      "         Gain-of-function       0.69      0.84      0.76       207\n",
      "             Inconclusive       0.73      0.59      0.65        54\n",
      "  Likely Gain-of-function       0.59      0.46      0.52        93\n",
      "  Likely Loss-of-function       0.58      0.66      0.62       107\n",
      "           Likely Neutral       0.46      0.42      0.44        52\n",
      "Likely Switch-of-function       0.00      0.00      0.00         2\n",
      "         Loss-of-function       0.76      0.59      0.67       123\n",
      "                  Neutral       0.60      0.63      0.62        19\n",
      "       Switch-of-function       0.67      0.86      0.75         7\n",
      "\n",
      "                 accuracy                           0.65       664\n",
      "                macro avg       0.56      0.56      0.56       664\n",
      "             weighted avg       0.65      0.65      0.65       664\n",
      "\n"
     ]
    },
    {
     "data": {
      "image/png": "[encoded data removed]",
      "text/plain": [
       "<Figure size 1080x720 with 2 Axes>"
      ]
     },
     "metadata": {},
     "output_type": "display_data"
    }
   ],
   "source": [
    "from sklearn.metrics import confusion_matrix \n",
    "from sklearn.metrics import accuracy_score \n",
    "from sklearn.metrics import classification_report \n",
    "\n",
    "print('\\t\\t Classification Report for Naive Bayes \\n')\n",
    "print('\\t\\t *** Set 2 (TFIDF Encoding of Medical Text)*** \\n')\n",
    "\n",
    "y_predicted = sig_clf_test.predict(X_test_tfidf)\n",
    "\n",
    "#lets make a confusion matrix to view our real data (y_test) and predicted data (y_predicted)\n",
    "cm = confusion_matrix(y_test, y_predicted)\n",
    "fig, ax = plt.subplots(figsize=(15,10))\n",
    "sns.heatmap(cm, annot = True, ax=ax, annot_kws={\"size\": 15})\n",
    "\n",
    "#lets make a classification report.\n",
    "print(classification_report(y_test, y_predicted))"
   ]
  },
  {
   "cell_type": "markdown",
   "metadata": {},
   "source": [
    "# 10. Applying k-NN\n",
    "\n",
    "<a id='k-NN'></a>"
   ]
  },
  {
   "cell_type": "markdown",
   "metadata": {},
   "source": [
    "## 10.1. Set-1: preprocessed_medical_text (BoW) + categorical feature (GENE) + categorical feature (VARIATION)\n",
    "\n",
    "<a id='knnset1'></a>"
   ]
  },
  {
   "cell_type": "code",
   "execution_count": 30,
   "metadata": {},
   "outputs": [
    {
     "name": "stdout",
     "output_type": "stream",
     "text": [
      "***Logloss while training with k Nearest Neighbors*** \n",
      "\n",
      "*** Set 1 (Bag-of-Words Encoding of Medical Text)*** \n",
      "\n",
      "For 'K' = 13\n",
      "Log Loss : 1.2190924050564056\n",
      "For 'K' = 17\n",
      "Log Loss : 1.2505219244477221\n",
      "For 'K' = 29\n",
      "Log Loss : 1.2913143074205105\n",
      "For 'K' = 37\n",
      "Log Loss : 1.3050379736479405\n",
      "For 'K' = 47\n",
      "Log Loss : 1.320917110029617\n",
      "Wall time: 1min 36s\n"
     ]
    }
   ],
   "source": [
    "%%time\n",
    "\n",
    "from sklearn.neighbors import KNeighborsClassifier\n",
    "from sklearn.calibration import CalibratedClassifierCV\n",
    "from sklearn.metrics.classification import accuracy_score, log_loss\n",
    "\n",
    "print('***Logloss while training with k Nearest Neighbors*** \\n')\n",
    "print('*** Set 1 (Bag-of-Words Encoding of Medical Text)*** \\n')\n",
    "\n",
    "k = [13, 17, 29, 37, 47] #Choosing only odd numbers as even 'K' will lead to complications.\n",
    "\n",
    "test_log_error_array = []\n",
    "\n",
    "for i in k:\n",
    "    print(\"For 'K' =\", i)\n",
    "    model_knn = KNeighborsClassifier(n_neighbors=i, algorithm='brute')\n",
    "    model_knn.fit(X_train_bow, y_train)\n",
    "    \n",
    "    cal_clf = CalibratedClassifierCV(model_knn, method=\"sigmoid\")\n",
    "    cal_clf.fit(X_train_bow, y_train)\n",
    "    \n",
    "    cal_clf_probs = cal_clf.predict_proba(X_test_bow)\n",
    "    \n",
    "    test_log_error_array.append(log_loss(y_test, cal_clf_probs, labels=model_knn.classes_))\n",
    "    \n",
    "    print(\"Log Loss :\", log_loss(y_test, cal_clf_probs)) "
   ]
  },
  {
   "cell_type": "code",
   "execution_count": 31,
   "metadata": {},
   "outputs": [
    {
     "name": "stdout",
     "output_type": "stream",
     "text": [
      "***Logloss while testing with k-Nearest Neighbors*** \n",
      "\n",
      "*** Set 1 (Bag-of-Words Encoding of Medical Text)*** \n",
      "\n",
      "Log Loss : 2.8915741140910556\n",
      "Wall time: 15.7 s\n"
     ]
    }
   ],
   "source": [
    "%%time\n",
    "\n",
    "best_k = 13\n",
    "\n",
    "clf_knn_bow = KNeighborsClassifier(n_neighbors=best_k)\n",
    "clf_knn_bow.fit(X_train_bow, y_train)\n",
    "\n",
    "cal_clf_bow_test = CalibratedClassifierCV(clf_knn_bow, method=\"sigmoid\")\n",
    "cal_clf_bow_test.fit(X_train_bow, y_train)\n",
    "cal_clf_knn_bow_probs = clf_knn_bow.predict_proba(X_test_bow)\n",
    "\n",
    "print('***Logloss while testing with k-Nearest Neighbors*** \\n')\n",
    "print('*** Set 1 (Bag-of-Words Encoding of Medical Text)*** \\n')\n",
    "\n",
    "print(\"Log Loss :\", log_loss(y_test, cal_clf_knn_bow_probs))"
   ]
  },
  {
   "cell_type": "code",
   "execution_count": 43,
   "metadata": {},
   "outputs": [
    {
     "name": "stdout",
     "output_type": "stream",
     "text": [
      "*** Set 1 of k-NN (Bag-of_Words Encoding of Medical Text)*** \n",
      "\n",
      "***Analyzing the acutal and predicted class by taking a test datapoint*** \n",
      "\n",
      "Predicted Class : Likely Gain-of-function\n",
      "Predicted Class Probabilities: [0.06858526 0.02647543 0.71957194 0.09196994 0.0275223  0.00392347\n",
      " 0.0460976  0.01138701 0.00446706]\n",
      "Actual Class : Likely Loss-of-function\n",
      "**************************************************\n",
      "Gain-of-function 0.06858526340828833\n",
      "Inconclusive 0.02647543339758644\n",
      "Likely Gain-of-function 0.7195719360407136\n",
      "Likely Loss-of-function 0.0919699354227223\n",
      "Likely Neutral 0.027522295165895726\n",
      "Likely Switch-of-function 0.003923466312683856\n",
      "Loss-of-function 0.04609760178590852\n",
      "Neutral 0.01138701332133985\n",
      "Switch-of-function 0.004467055144861439\n"
     ]
    }
   ],
   "source": [
    "print('*** Set 1 of k-NN (Bag-of_Words Encoding of Medical Text)*** \\n')\n",
    "print('***Analyzing the acutal and predicted class by taking a test datapoint*** \\n')\n",
    "\n",
    "test_datapoint_index = 310\n",
    "predicted_cls = cal_clf_bow_test.predict(X_test_bow[test_datapoint_index])\n",
    "\n",
    "print(\"Predicted Class :\", predicted_cls[0])\n",
    "\n",
    "#flatten because it gave a 2D array. Needs to be converted to 1D\n",
    "predicted_prob = cal_clf_bow_test.predict_proba(X_test_bow[test_datapoint_index]).flatten()\n",
    "\n",
    "print(\"Predicted Class Probabilities:\", predicted_prob)\n",
    "print(\"Actual Class :\", y_test[test_datapoint_index])\n",
    "\n",
    "print('*'*50)\n",
    "\n",
    "print(model_knn.classes_[0], predicted_prob[0])\n",
    "print(model_knn.classes_[1], predicted_prob[1])\n",
    "print(model_knn.classes_[2], predicted_prob[2])\n",
    "print(model_knn.classes_[3], predicted_prob[3])\n",
    "print(model_knn.classes_[4], predicted_prob[4])\n",
    "print(model_knn.classes_[5], predicted_prob[5])\n",
    "print(model_knn.classes_[6], predicted_prob[6])\n",
    "print(model_knn.classes_[7], predicted_prob[7])\n",
    "print(model_knn.classes_[8], predicted_prob[8])"
   ]
  },
  {
   "cell_type": "code",
   "execution_count": 44,
   "metadata": {},
   "outputs": [
    {
     "name": "stdout",
     "output_type": "stream",
     "text": [
      "\t\t Classification Report for k-NN \n",
      "\n",
      "\t\t *** Set 1 (Bag-of-Words Encoding of Medical Text)*** \n",
      "\n",
      "                           precision    recall  f1-score   support\n",
      "\n",
      "         Gain-of-function       0.61      0.83      0.70       192\n",
      "             Inconclusive       0.72      0.60      0.65        52\n",
      "  Likely Gain-of-function       0.69      0.32      0.44        84\n",
      "  Likely Loss-of-function       0.56      0.48      0.52       121\n",
      "           Likely Neutral       0.64      0.26      0.37        62\n",
      "Likely Switch-of-function       0.00      0.00      0.00         2\n",
      "         Loss-of-function       0.51      0.70      0.59       136\n",
      "                  Neutral       0.00      0.00      0.00        10\n",
      "       Switch-of-function       0.67      0.40      0.50         5\n",
      "\n",
      "                 accuracy                           0.58       664\n",
      "                macro avg       0.49      0.40      0.42       664\n",
      "             weighted avg       0.59      0.58      0.56       664\n",
      "\n"
     ]
    },
    {
     "data": {
      "image/png": "[encoded data removed]",
      "text/plain": [
       "<Figure size 1080x720 with 2 Axes>"
      ]
     },
     "metadata": {},
     "output_type": "display_data"
    }
   ],
   "source": [
    "from sklearn.metrics import confusion_matrix \n",
    "from sklearn.metrics import accuracy_score \n",
    "from sklearn.metrics import classification_report \n",
    "\n",
    "print('\\t\\t Classification Report for k-NN \\n')\n",
    "print('\\t\\t *** Set 1 (Bag-of-Words Encoding of Medical Text)*** \\n')\n",
    "\n",
    "y_predicted = cal_clf_bow_test.predict(X_test_bow)\n",
    "\n",
    "#lets make a confusion matrix to view our real data (y_test) and predicted data (y_predicted)\n",
    "cm = confusion_matrix(y_test, y_predicted)\n",
    "fig, ax = plt.subplots(figsize=(15,10))\n",
    "sns.heatmap(cm, annot = True, ax=ax, annot_kws={\"size\": 15})\n",
    "\n",
    "#lets make a classification report.\n",
    "print(classification_report(y_test, y_predicted))"
   ]
  },
  {
   "cell_type": "markdown",
   "metadata": {},
   "source": [
    "## 10.2. Set-2: preprocessed_medical_text (TFIDF) + categorical feature (GENE) + categorical feature (VARIATION)\n",
    "\n",
    "<a id='knnset2'></a>"
   ]
  },
  {
   "cell_type": "code",
   "execution_count": 45,
   "metadata": {},
   "outputs": [
    {
     "name": "stdout",
     "output_type": "stream",
     "text": [
      "***Logloss while training with k Nearest Neighbors*** \n",
      "\n",
      "*** Set 2 (TFIDF Encoding of Medical Text)*** \n",
      "\n",
      "For 'K' = 13\n",
      "Log Loss : 1.1205688816352393\n",
      "For 'K' = 17\n",
      "Log Loss : 1.1405692163140146\n",
      "For 'K' = 29\n",
      "Log Loss : 1.194734982248032\n",
      "For 'K' = 37\n",
      "Log Loss : 1.2097013492208486\n",
      "For 'K' = 47\n",
      "Log Loss : 1.223155576879969\n",
      "Wall time: 1min 32s\n"
     ]
    }
   ],
   "source": [
    "%%time\n",
    "\n",
    "from sklearn.neighbors import KNeighborsClassifier\n",
    "\n",
    "k = [13, 17, 29, 37, 47] #Choosing only odd numbers as even 'K' will lead to complications.\n",
    "\n",
    "test_log_error_array = []\n",
    "\n",
    "print('***Logloss while training with k Nearest Neighbors*** \\n')\n",
    "print('*** Set 2 (TFIDF Encoding of Medical Text)*** \\n')\n",
    "\n",
    "for i in k:\n",
    "    print(\"For 'K' =\", i)\n",
    "    model_knn_tfidf = KNeighborsClassifier(n_neighbors=i, algorithm='brute')\n",
    "    model_knn_tfidf.fit(X_train_tfidf, y_train)\n",
    "    \n",
    "    cal_clf_tfidf = CalibratedClassifierCV(model_knn_tfidf, method=\"sigmoid\")\n",
    "    cal_clf_tfidf.fit(X_train_tfidf, y_train)\n",
    "    \n",
    "    cal_clf_tfidf_probs = cal_clf_tfidf.predict_proba(X_test_tfidf)\n",
    "    \n",
    "    test_log_error_array.append(log_loss(y_test, cal_clf_tfidf_probs, labels=model_knn_tfidf.classes_))\n",
    "    \n",
    "    print(\"Log Loss :\", log_loss(y_test, cal_clf_tfidf_probs)) "
   ]
  },
  {
   "cell_type": "code",
   "execution_count": 46,
   "metadata": {},
   "outputs": [
    {
     "name": "stdout",
     "output_type": "stream",
     "text": [
      "***Logloss while testing with k-Nearest Neighbors*** \n",
      "\n",
      "*** Set 2 (TFIDF Encoding of Medical Text)*** \n",
      "\n",
      "Log Loss : 2.7601142513181354\n",
      "Wall time: 14.2 s\n"
     ]
    }
   ],
   "source": [
    "%%time\n",
    "\n",
    "best_k = 13\n",
    "\n",
    "clf_knn_tfidf = KNeighborsClassifier(n_neighbors=best_k)\n",
    "clf_knn_tfidf.fit(X_train_tfidf, y_train)\n",
    "\n",
    "cal_clf_tfidf_test = CalibratedClassifierCV(clf_knn_tfidf, method=\"sigmoid\")\n",
    "cal_clf_tfidf_test.fit(X_train_tfidf, y_train)\n",
    "cal_clf_knn_tfidf_probs = clf_knn_tfidf.predict_proba(X_test_tfidf)\n",
    "\n",
    "print('***Logloss while testing with k-Nearest Neighbors*** \\n')\n",
    "print('*** Set 2 (TFIDF Encoding of Medical Text)*** \\n')\n",
    "\n",
    "print(\"Log Loss :\", log_loss(y_test, cal_clf_knn_tfidf_probs))"
   ]
  },
  {
   "cell_type": "code",
   "execution_count": 61,
   "metadata": {},
   "outputs": [
    {
     "name": "stdout",
     "output_type": "stream",
     "text": [
      "*** Set 2 of k-NN (TFIDF Encoding of Medical Text)*** \n",
      "\n",
      "***Analyzing the acutal and predicted class by taking a test datapoint*** \n",
      "\n",
      "Predicted Class : Likely Gain-of-function\n",
      "Predicted Class Probabilities: [0.11772355 0.03906755 0.3617852  0.21607102 0.05200069 0.00437935\n",
      " 0.18845    0.01632284 0.00419979]\n",
      "Actual Class : Gain-of-function\n",
      "**************************************************\n",
      "Gain-of-function 0.11772355453831945\n",
      "Inconclusive 0.039067550847669635\n",
      "Likely Gain-of-function 0.36178519699982353\n",
      "Likely Loss-of-function 0.2160710169707987\n",
      "Likely Neutral 0.05200069485019982\n",
      "Likely Switch-of-function 0.004379349161068535\n",
      "Loss-of-function 0.1884500030983305\n",
      "Neutral 0.016322843640684998\n",
      "Switch-of-function 0.004199789893104812\n"
     ]
    }
   ],
   "source": [
    "test_datapoint_index = 230\n",
    "predicted_cls = cal_clf_tfidf_test.predict(X_test_tfidf[test_datapoint_index])\n",
    "\n",
    "print('*** Set 2 of k-NN (TFIDF Encoding of Medical Text)*** \\n')\n",
    "print('***Analyzing the acutal and predicted class by taking a test datapoint*** \\n')\n",
    "\n",
    "print(\"Predicted Class :\", predicted_cls[0])\n",
    "\n",
    "#flatten because it gave a 2D array. Needs to be converted to 1D\n",
    "predicted_prob = cal_clf_tfidf_test.predict_proba(X_test_tfidf[test_datapoint_index]).flatten()\n",
    "\n",
    "print(\"Predicted Class Probabilities:\", predicted_prob)\n",
    "print(\"Actual Class :\", y_test[test_datapoint_index])\n",
    "\n",
    "print('*'*50)\n",
    "\n",
    "print(model_knn_tfidf.classes_[0], predicted_prob[0])\n",
    "print(model_knn_tfidf.classes_[1], predicted_prob[1])\n",
    "print(model_knn_tfidf.classes_[2], predicted_prob[2])\n",
    "print(model_knn_tfidf.classes_[3], predicted_prob[3])\n",
    "print(model_knn_tfidf.classes_[4], predicted_prob[4])\n",
    "print(model_knn_tfidf.classes_[5], predicted_prob[5])\n",
    "print(model_knn_tfidf.classes_[6], predicted_prob[6])\n",
    "print(model_knn_tfidf.classes_[7], predicted_prob[7])\n",
    "print(model_knn_tfidf.classes_[8], predicted_prob[8])"
   ]
  },
  {
   "cell_type": "code",
   "execution_count": 63,
   "metadata": {},
   "outputs": [
    {
     "name": "stdout",
     "output_type": "stream",
     "text": [
      "\t\t Classification Report for k-NN \n",
      "\n",
      "\t\t *** Set 2 (Bag-of-Words Encoding of Medical Text)*** \n",
      "\n",
      "                           precision    recall  f1-score   support\n",
      "\n",
      "         Gain-of-function       0.65      0.83      0.73       192\n",
      "             Inconclusive       0.73      0.58      0.65        52\n",
      "  Likely Gain-of-function       0.58      0.40      0.48        84\n",
      "  Likely Loss-of-function       0.60      0.64      0.62       121\n",
      "           Likely Neutral       0.63      0.19      0.30        62\n",
      "Likely Switch-of-function       0.00      0.00      0.00         2\n",
      "         Loss-of-function       0.62      0.73      0.67       136\n",
      "                  Neutral       0.00      0.00      0.00        10\n",
      "       Switch-of-function       0.67      0.40      0.50         5\n",
      "\n",
      "                 accuracy                           0.62       664\n",
      "                macro avg       0.50      0.42      0.44       664\n",
      "             weighted avg       0.62      0.62      0.60       664\n",
      "\n"
     ]
    },
    {
     "data": {
      "image/png": "[encoded data removed]",
      "text/plain": [
       "<Figure size 1080x720 with 2 Axes>"
      ]
     },
     "metadata": {},
     "output_type": "display_data"
    }
   ],
   "source": [
    "from sklearn.metrics import confusion_matrix \n",
    "from sklearn.metrics import accuracy_score \n",
    "from sklearn.metrics import classification_report \n",
    "\n",
    "y_predicted = cal_clf_tfidf_test.predict(X_test_tfidf)\n",
    "\n",
    "print('\\t\\t Classification Report for k-NN \\n')\n",
    "print('\\t\\t *** Set 2 (Bag-of-Words Encoding of Medical Text)*** \\n')\n",
    "\n",
    "#lets make a confusion matrix to view our real data (y_test) and predicted data (y_predicted)\n",
    "cm = confusion_matrix(y_test, y_predicted)\n",
    "fig, ax = plt.subplots(figsize=(15,10))\n",
    "sns.heatmap(cm, annot = True, ax=ax, annot_kws={\"size\": 15})\n",
    "\n",
    "#lets make a classification report.\n",
    "print(classification_report(y_test, y_predicted))"
   ]
  },
  {
   "cell_type": "markdown",
   "metadata": {},
   "source": [
    "# 11. Applying Logistic Regression\n",
    "\n",
    "<a id='lr'></a>"
   ]
  },
  {
   "cell_type": "markdown",
   "metadata": {},
   "source": [
    "## 11.1. Set-1: preprocessed_medical_text (BoW) + categorical feature (GENE) + categorical feature (VARIATION)\n",
    "\n",
    "<a id='lrset1'></a>"
   ]
  },
  {
   "cell_type": "code",
   "execution_count": 29,
   "metadata": {},
   "outputs": [
    {
     "name": "stdout",
     "output_type": "stream",
     "text": [
      "*** Set 1 (Bag-of-Words Encoding of Medical Text)*** \n",
      "\n",
      "***Logloss while training with Logistic Regression*** \n",
      "\n",
      "For 'C' = 0.001\n",
      "Log Loss : 1.1577578052247222\n",
      "For 'C' = 0.01\n",
      "Log Loss : 1.1847362825356154\n",
      "For 'C' = 0.1\n",
      "Log Loss : 1.2116043007008095\n",
      "For 'C' = 1\n",
      "Log Loss : 1.2328327447773448\n",
      "For 'C' = 10\n",
      "Log Loss : 1.2412445504573506\n",
      "For 'C' = 100\n",
      "Log Loss : 1.2428444930986149\n",
      "Wall time: 1h 36min 52s\n"
     ]
    }
   ],
   "source": [
    "%%time\n",
    "\n",
    "from sklearn.linear_model import LogisticRegression\n",
    "from sklearn.calibration import CalibratedClassifierCV\n",
    "from sklearn.metrics.classification import accuracy_score, log_loss\n",
    "\n",
    "c = [0.001, 0.01, 0.1, 1, 10, 100] \n",
    "\n",
    "test_log_error_array = []\n",
    "\n",
    "print('*** Set 1 (Bag-of-Words Encoding of Medical Text)*** \\n')\n",
    "print('***Logloss while training with Logistic Regression*** \\n')\n",
    "\n",
    "for i in c:\n",
    "    print(\"For 'C' =\", i)\n",
    "    model_lr_bow = LogisticRegression(C=i, class_weight='balanced')\n",
    "    model_lr_bow.fit(X_train_bow, y_train)\n",
    "    \n",
    "    cal_clf_bow = CalibratedClassifierCV(model_lr_bow)\n",
    "    cal_clf_bow.fit(X_train_bow, y_train)\n",
    "    \n",
    "    cal_clf_bow_probs = cal_clf_bow.predict_proba(X_test_bow)\n",
    "    \n",
    "    test_log_error_array.append(log_loss(y_test, cal_clf_bow_probs, labels=model_lr_bow.classes_))\n",
    "    \n",
    "    print(\"Log Loss :\", log_loss(y_test, cal_clf_bow_probs)) "
   ]
  },
  {
   "cell_type": "code",
   "execution_count": 30,
   "metadata": {},
   "outputs": [
    {
     "name": "stdout",
     "output_type": "stream",
     "text": [
      "*** Set 1 (Bag-of-Words Encoding of Medical Text)*** \n",
      "\n",
      "***Logloss while testing with Logistic Regression*** \n",
      "\n",
      "Log Loss : 1.371504663047994\n",
      "Wall time: 2min 30s\n"
     ]
    }
   ],
   "source": [
    "%%time\n",
    "\n",
    "best_C = 0.001\n",
    "\n",
    "clf_lr_bow = LogisticRegression(C=best_C, class_weight='balanced')\n",
    "clf_lr_bow.fit(X_train_bow, y_train)\n",
    "\n",
    "cal_clf_bow_test = CalibratedClassifierCV(clf_lr_bow)\n",
    "cal_clf_bow_test.fit(X_train_bow, y_train)\n",
    "cal_clf_lr_bow_probs = clf_lr_bow.predict_proba(X_test_bow)\n",
    "\n",
    "print('*** Set 1 (Bag-of-Words Encoding of Medical Text)*** \\n')\n",
    "print('***Logloss while testing with Logistic Regression*** \\n')\n",
    "\n",
    "print(\"Log Loss :\", log_loss(y_test, cal_clf_lr_bow_probs))"
   ]
  },
  {
   "cell_type": "code",
   "execution_count": 66,
   "metadata": {},
   "outputs": [
    {
     "name": "stdout",
     "output_type": "stream",
     "text": [
      "*** Set 1 (Bag-of-Words Encoding of Medical Text)*** \n",
      "\n",
      "***Analyzing the acutal and predicted class by taking a test datapoint*** \n",
      "\n",
      "Predicted Class : Loss-of-function\n",
      "Predicted Class Probabilities: [6.00283722e-02 1.58439678e-04 8.86738846e-03 2.42635929e-01\n",
      " 2.37846908e-03 3.87307055e-03 6.81421685e-01 5.67420066e-04\n",
      " 6.92266705e-05]\n",
      "Actual Class : Loss-of-function\n",
      "**************************************************\n",
      "Gain-of-function 0.06002837217581181\n",
      "Inconclusive 0.00015843967813813461\n",
      "Likely Gain-of-function 0.008867388463662184\n",
      "Likely Loss-of-function 0.24263592855604732\n",
      "Likely Neutral 0.002378469082668561\n",
      "Likely Switch-of-function 0.0038730705531493715\n",
      "Loss-of-function 0.6814216847535771\n",
      "Neutral 0.0005674200664292015\n",
      "Switch-of-function 6.92266705163083e-05\n"
     ]
    }
   ],
   "source": [
    "print('*** Set 1 (Bag-of-Words Encoding of Medical Text)*** \\n')\n",
    "print('***Analyzing the acutal and predicted class by taking a test datapoint*** \\n')\n",
    "\n",
    "test_datapoint_index = 355\n",
    "predicted_cls = cal_clf_bow_test.predict(X_test_bow[test_datapoint_index])\n",
    "\n",
    "print(\"Predicted Class :\", predicted_cls[0])\n",
    "\n",
    "#flatten because it gave a 2D array. Needs to be converted to 1D\n",
    "predicted_prob = cal_clf_bow_test.predict_proba(X_test_bow[test_datapoint_index]).flatten()\n",
    "\n",
    "print(\"Predicted Class Probabilities:\", predicted_prob)\n",
    "print(\"Actual Class :\", y_test[test_datapoint_index])\n",
    "\n",
    "print('*'*50)\n",
    "\n",
    "print(cal_clf_bow_test.classes_[0], predicted_prob[0])\n",
    "print(cal_clf_bow_test.classes_[1], predicted_prob[1])\n",
    "print(cal_clf_bow_test.classes_[2], predicted_prob[2])\n",
    "print(cal_clf_bow_test.classes_[3], predicted_prob[3])\n",
    "print(cal_clf_bow_test.classes_[4], predicted_prob[4])\n",
    "print(cal_clf_bow_test.classes_[5], predicted_prob[5])\n",
    "print(cal_clf_bow_test.classes_[6], predicted_prob[6])\n",
    "print(cal_clf_bow_test.classes_[7], predicted_prob[7])\n",
    "print(cal_clf_bow_test.classes_[8], predicted_prob[8])"
   ]
  },
  {
   "cell_type": "code",
   "execution_count": 67,
   "metadata": {},
   "outputs": [
    {
     "name": "stdout",
     "output_type": "stream",
     "text": [
      "\t\t Classification Report for Logistic Regression \n",
      "\n",
      "\t\t *** Set 1 (Bag-of-Words Encoding of Medical Text)*** \n",
      "\n",
      "                           precision    recall  f1-score   support\n",
      "\n",
      "         Gain-of-function       0.64      0.82      0.72       192\n",
      "             Inconclusive       0.69      0.48      0.57        60\n",
      "  Likely Gain-of-function       0.54      0.39      0.45        90\n",
      "  Likely Loss-of-function       0.56      0.63      0.59       122\n",
      "           Likely Neutral       0.46      0.20      0.28        55\n",
      "Likely Switch-of-function       0.00      0.00      0.00         4\n",
      "         Loss-of-function       0.66      0.76      0.71       123\n",
      "                  Neutral       0.50      0.22      0.31         9\n",
      "       Switch-of-function       1.00      0.67      0.80         9\n",
      "\n",
      "                 accuracy                           0.62       664\n",
      "                macro avg       0.56      0.46      0.49       664\n",
      "             weighted avg       0.61      0.62      0.60       664\n",
      "\n"
     ]
    },
    {
     "data": {
      "image/png": "[encoded data removed]",
      "text/plain": [
       "<Figure size 1080x720 with 2 Axes>"
      ]
     },
     "metadata": {},
     "output_type": "display_data"
    }
   ],
   "source": [
    "from sklearn.metrics import confusion_matrix \n",
    "from sklearn.metrics import accuracy_score \n",
    "from sklearn.metrics import classification_report \n",
    "\n",
    "print('\\t\\t Classification Report for Logistic Regression \\n')\n",
    "print('\\t\\t *** Set 1 (Bag-of-Words Encoding of Medical Text)*** \\n')\n",
    "\n",
    "y_predicted = cal_clf_bow_test.predict(X_test_bow)\n",
    "\n",
    "#lets make a confusion matrix to view our real data (y_test) and predicted data (y_predicted)\n",
    "cm = confusion_matrix(y_test, y_predicted)\n",
    "fig, ax = plt.subplots(figsize=(15,10))\n",
    "sns.heatmap(cm, annot = True, ax=ax, annot_kws={\"size\": 15})\n",
    "\n",
    "#lets make a classification report.\n",
    "print(classification_report(y_test, y_predicted))"
   ]
  },
  {
   "cell_type": "markdown",
   "metadata": {},
   "source": [
    "## 11.2. Set-2: preprocessed_medical_text (TFIDF) + categorical feature (GENE) + categorical feature (VARIATION)\n",
    "\n",
    "<a id='lrset2'></a>"
   ]
  },
  {
   "cell_type": "code",
   "execution_count": 33,
   "metadata": {},
   "outputs": [
    {
     "name": "stdout",
     "output_type": "stream",
     "text": [
      "*** Set 2 (TFIDF Encoding of Medical Text)*** \n",
      "\n",
      "***Logloss while training with Logistic Regression*** \n",
      "\n",
      "For 'C' = 0.001\n",
      "Log Loss : 1.3393823483964387\n",
      "For 'C' = 0.01\n",
      "Log Loss : 1.1539846710739565\n",
      "For 'C' = 0.1\n",
      "Log Loss : 1.0548750855654399\n",
      "For 'C' = 1\n",
      "Log Loss : 0.9370292194502696\n",
      "For 'C' = 10\n",
      "Log Loss : 0.9005035032742718\n",
      "For 'C' = 100\n",
      "Log Loss : 0.9003351781195768\n",
      "Wall time: 3min 46s\n"
     ]
    }
   ],
   "source": [
    "%%time\n",
    "\n",
    "from sklearn.linear_model import LogisticRegression\n",
    "from sklearn.calibration import CalibratedClassifierCV\n",
    "from sklearn.metrics.classification import accuracy_score, log_loss\n",
    "\n",
    "c = [0.001, 0.01, 0.1, 1, 10, 100] \n",
    "\n",
    "test_log_error_array = []\n",
    "\n",
    "print('*** Set 2 (TFIDF Encoding of Medical Text)*** \\n')\n",
    "print('***Logloss while training with Logistic Regression*** \\n')\n",
    "\n",
    "for i in c:\n",
    "    print(\"For 'C' =\", i)\n",
    "    model_lr_tfidf = LogisticRegression(C=i, class_weight='balanced')\n",
    "    model_lr_tfidf.fit(X_train_tfidf, y_train)\n",
    "    \n",
    "    cal_clf_tfidf = CalibratedClassifierCV(model_lr_tfidf)\n",
    "    cal_clf_tfidf.fit(X_train_tfidf, y_train)\n",
    "    \n",
    "    cal_clf_tfidf_probs = cal_clf_tfidf.predict_proba(X_test_tfidf)\n",
    "    \n",
    "    test_log_error_array.append(log_loss(y_test, cal_clf_tfidf_probs, labels=model_lr_tfidf.classes_))\n",
    "    \n",
    "    print(\"Log Loss :\", log_loss(y_test, cal_clf_tfidf_probs)) "
   ]
  },
  {
   "cell_type": "code",
   "execution_count": 34,
   "metadata": {},
   "outputs": [
    {
     "name": "stdout",
     "output_type": "stream",
     "text": [
      "*** Set 2 (TFIDF Encoding of Medical Text)*** \n",
      "\n",
      "***Logloss while testing with Logistic Regression*** \n",
      "\n",
      "Log Loss : 0.8909261668025468\n",
      "Wall time: 58 s\n"
     ]
    }
   ],
   "source": [
    "%%time\n",
    "\n",
    "best_C = 10\n",
    "\n",
    "clf_lr_tfidf = LogisticRegression(C=best_C, class_weight='balanced')\n",
    "clf_lr_tfidf.fit(X_train_tfidf, y_train)\n",
    "\n",
    "cal_clf_tfidf_test = CalibratedClassifierCV(clf_lr_tfidf)\n",
    "cal_clf_tfidf_test.fit(X_train_tfidf, y_train)\n",
    "cal_clf_lr_tfidf_probs = clf_lr_tfidf.predict_proba(X_test_tfidf)\n",
    "\n",
    "print('*** Set 2 (TFIDF Encoding of Medical Text)*** \\n')\n",
    "print('***Logloss while testing with Logistic Regression*** \\n')\n",
    "print(\"Log Loss :\", log_loss(y_test, cal_clf_lr_tfidf_probs))"
   ]
  },
  {
   "cell_type": "code",
   "execution_count": 42,
   "metadata": {},
   "outputs": [
    {
     "name": "stdout",
     "output_type": "stream",
     "text": [
      "*** Set 2 (TFIDF Encoding of Medical Text)*** \n",
      "\n",
      "***Analyzing the acutal and predicted class by taking a test datapoint*** \n",
      "\n",
      "Predicted Class : Gain-of-function\n",
      "Predicted Class Probabilities: [0.83737971 0.00794767 0.03931815 0.03339571 0.01037547 0.00333357\n",
      " 0.01776173 0.04786815 0.00261983]\n",
      "Actual Class : Gain-of-function\n",
      "**************************************************\n",
      "Gain-of-function 0.8373797096282\n",
      "Inconclusive 0.007947669827953124\n",
      "Likely Gain-of-function 0.039318146063466834\n",
      "Likely Loss-of-function 0.03339571483498945\n",
      "Likely Neutral 0.010375474459190903\n",
      "Likely Switch-of-function 0.0033335714500530218\n",
      "Loss-of-function 0.017761726959657245\n",
      "Neutral 0.04786815461489305\n",
      "Switch-of-function 0.002619832161596459\n"
     ]
    }
   ],
   "source": [
    "print('*** Set 2 (TFIDF Encoding of Medical Text)*** \\n')\n",
    "print('***Analyzing the acutal and predicted class by taking a test datapoint*** \\n')\n",
    "\n",
    "test_datapoint_index = 210\n",
    "predicted_cls = cal_clf_tfidf_test.predict(X_test_tfidf[test_datapoint_index])\n",
    "\n",
    "print(\"Predicted Class :\", predicted_cls[0])\n",
    "\n",
    "#flatten because it gave a 2D array. Needs to be converted to 1D\n",
    "predicted_prob = cal_clf_tfidf_test.predict_proba(X_test_tfidf[test_datapoint_index]).flatten()\n",
    "\n",
    "print(\"Predicted Class Probabilities:\", predicted_prob)\n",
    "print(\"Actual Class :\", y_test[test_datapoint_index])\n",
    "\n",
    "print('*'*50)\n",
    "\n",
    "print(cal_clf_tfidf_test.classes_[0], predicted_prob[0])\n",
    "print(cal_clf_tfidf_test.classes_[1], predicted_prob[1])\n",
    "print(cal_clf_tfidf_test.classes_[2], predicted_prob[2])\n",
    "print(cal_clf_tfidf_test.classes_[3], predicted_prob[3])\n",
    "print(cal_clf_tfidf_test.classes_[4], predicted_prob[4])\n",
    "print(cal_clf_tfidf_test.classes_[5], predicted_prob[5])\n",
    "print(cal_clf_tfidf_test.classes_[6], predicted_prob[6])\n",
    "print(cal_clf_tfidf_test.classes_[7], predicted_prob[7])\n",
    "print(cal_clf_tfidf_test.classes_[8], predicted_prob[8])"
   ]
  },
  {
   "cell_type": "code",
   "execution_count": 80,
   "metadata": {},
   "outputs": [
    {
     "name": "stdout",
     "output_type": "stream",
     "text": [
      "\t\t Classification Report for Logistic Regression \n",
      "\n",
      "\t\t *** Set 2 (TFIDF Encoding of Medical Text)*** \n",
      "\n",
      "                           precision    recall  f1-score   support\n",
      "\n",
      "         Gain-of-function       0.69      0.88      0.78       207\n",
      "             Inconclusive       0.68      0.56      0.61        54\n",
      "  Likely Gain-of-function       0.67      0.55      0.60        93\n",
      "  Likely Loss-of-function       0.63      0.68      0.66       107\n",
      "           Likely Neutral       0.45      0.27      0.34        52\n",
      "Likely Switch-of-function       0.00      0.00      0.00         2\n",
      "         Loss-of-function       0.74      0.75      0.74       123\n",
      "                  Neutral       0.33      0.05      0.09        19\n",
      "       Switch-of-function       0.67      0.86      0.75         7\n",
      "\n",
      "                 accuracy                           0.68       664\n",
      "                macro avg       0.54      0.51      0.51       664\n",
      "             weighted avg       0.66      0.68      0.66       664\n",
      "\n"
     ]
    },
    {
     "data": {
      "image/png": "[encoded data removed]",
      "text/plain": [
       "<Figure size 1080x720 with 2 Axes>"
      ]
     },
     "metadata": {},
     "output_type": "display_data"
    }
   ],
   "source": [
    "from sklearn.metrics import confusion_matrix \n",
    "from sklearn.metrics import accuracy_score \n",
    "from sklearn.metrics import classification_report \n",
    "\n",
    "y_predicted = cal_clf_tfidf_test.predict(X_test_tfidf)\n",
    "\n",
    "print('\\t\\t Classification Report for Logistic Regression \\n')\n",
    "print('\\t\\t *** Set 2 (TFIDF Encoding of Medical Text)*** \\n')\n",
    "\n",
    "#lets make a confusion matrix to view our real data (y_test) and predicted data (y_predicted)\n",
    "cm = confusion_matrix(y_test, y_predicted)\n",
    "fig, ax = plt.subplots(figsize=(15,10))\n",
    "sns.heatmap(cm, annot = True, ax=ax, annot_kws={\"size\": 15})\n",
    "\n",
    "#lets make a classification report.\n",
    "print(classification_report(y_test, y_predicted))"
   ]
  },
  {
   "cell_type": "markdown",
   "metadata": {},
   "source": [
    "# 12. Applying Random Forest\n",
    "\n",
    "<a id='rf'></a>"
   ]
  },
  {
   "cell_type": "markdown",
   "metadata": {},
   "source": [
    "## 12.1. Set-1: preprocessed_medical_text (BoW) + categorical feature (GENE) + categorical feature (VARIATION)\n",
    "\n",
    "<a id='rfset1'></a>"
   ]
  },
  {
   "cell_type": "code",
   "execution_count": 43,
   "metadata": {},
   "outputs": [
    {
     "name": "stdout",
     "output_type": "stream",
     "text": [
      "*** Set 1 (Bag-of-Words Encoding of Medical Text)*** \n",
      "\n",
      "***Logloss while training with Random Forest Classifier*** \n",
      "\n",
      "For 'estimator' = 5\n",
      "Log Loss : 1.5234007044065911\n",
      "For 'estimator' = 10\n",
      "Log Loss : 1.4311151863096407\n",
      "For 'estimator' = 50\n",
      "Log Loss : 1.3155420774409563\n",
      "For 'estimator' = 100\n",
      "Log Loss : 1.2436900619069173\n",
      "For 'estimator' = 200\n",
      "Log Loss : 1.241247583347346\n",
      "For 'estimator' = 500\n",
      "Log Loss : 1.2182451385481197\n",
      "Wall time: 1min 30s\n"
     ]
    }
   ],
   "source": [
    "%%time\n",
    "from sklearn.ensemble import RandomForestClassifier\n",
    "from sklearn.calibration import CalibratedClassifierCV\n",
    "from sklearn.metrics.classification import accuracy_score, log_loss\n",
    "\n",
    "estimators = [5, 10, 50, 100, 200, 500]\n",
    "#max_d = [2, 3, 4, 5, 6, 7, 8, 9, 10]\n",
    "\n",
    "test_log_error_array = []\n",
    "\n",
    "print('*** Set 1 (Bag-of-Words Encoding of Medical Text)*** \\n')\n",
    "print('***Logloss while training with Random Forest Classifier*** \\n')\n",
    "\n",
    "for i in estimators:\n",
    "    print(\"For 'estimator' =\", i)\n",
    "    model_rf_bow = RandomForestClassifier(n_estimators=i, class_weight='balanced', max_depth=7, n_jobs=-1)\n",
    "    model_rf_bow.fit(X_train_tfidf, y_train)\n",
    "    \n",
    "    cal_clf_bow = CalibratedClassifierCV(model_rf_bow)\n",
    "    cal_clf_bow.fit(X_train_bow, y_train)\n",
    "    \n",
    "    cal_clf_bow_probs = cal_clf_bow.predict_proba(X_test_bow)\n",
    "    \n",
    "    test_log_error_array.append(log_loss(y_test, cal_clf_bow_probs, labels=model_rf_bow.classes_))\n",
    "    \n",
    "    print(\"Log Loss :\", log_loss(y_test, cal_clf_bow_probs)) "
   ]
  },
  {
   "cell_type": "code",
   "execution_count": 45,
   "metadata": {},
   "outputs": [
    {
     "name": "stdout",
     "output_type": "stream",
     "text": [
      "*** Set 1 (Bag-of-words Encoding of Medical Text)*** \n",
      "\n",
      "***Logloss while testing with Random Forest Classifier*** \n",
      "\n",
      "Log Loss : 1.7113826640615581\n",
      "Wall time: 58.7 s\n"
     ]
    }
   ],
   "source": [
    "%%time\n",
    "\n",
    "best_n_estimator = 500\n",
    "\n",
    "clf_rf_bow = RandomForestClassifier(n_estimators=500, max_depth=7, class_weight='balanced')\n",
    "clf_rf_bow.fit(X_train_bow, y_train)\n",
    "\n",
    "cal_clf_bow_test = CalibratedClassifierCV(clf_rf_bow)\n",
    "cal_clf_bow_test.fit(X_train_bow, y_train)\n",
    "cal_clf_rf_bow_probs = clf_rf_bow.predict_proba(X_test_bow)\n",
    "\n",
    "print('*** Set 1 (Bag-of-words Encoding of Medical Text)*** \\n')\n",
    "print('***Logloss while testing with Random Forest Classifier*** \\n')\n",
    "\n",
    "print(\"Log Loss :\", log_loss(y_test, cal_clf_rf_bow_probs))"
   ]
  },
  {
   "cell_type": "code",
   "execution_count": 62,
   "metadata": {},
   "outputs": [
    {
     "name": "stdout",
     "output_type": "stream",
     "text": [
      "*** Set 1 of Random Forest (Bag-of-Words Encoding of Medical Text)*** \n",
      "\n",
      "***Analyzing the acutal and predicted class by taking a test datapoint*** \n",
      "\n",
      "Predicted Class : Likely Neutral\n",
      "Predicted Class Probabilities: [0.01674898 0.03513716 0.0027166  0.33143667 0.55658768 0.00456423\n",
      " 0.03807265 0.01088855 0.00384748]\n",
      "Actual Class : Likely Loss-of-function\n",
      "**************************************************\n",
      "Gain-of-function 0.016748977601276974\n",
      "Inconclusive 0.035137161269288446\n",
      "Likely Gain-of-function 0.002716598412316937\n",
      "Likely Loss-of-function 0.3314366691441603\n",
      "Likely Neutral 0.5565876800018209\n",
      "Likely Switch-of-function 0.004564226830913097\n",
      "Loss-of-function 0.03807264961406449\n",
      "Neutral 0.01088855391150848\n",
      "Switch-of-function 0.0038474832146504095\n"
     ]
    }
   ],
   "source": [
    "print('*** Set 1 of Random Forest (Bag-of-Words Encoding of Medical Text)*** \\n')\n",
    "print('***Analyzing the acutal and predicted class by taking a test datapoint*** \\n')\n",
    "\n",
    "test_datapoint_index = 417\n",
    "predicted_cls = cal_clf_bow_test.predict(X_test_bow[test_datapoint_index])\n",
    "\n",
    "print(\"Predicted Class :\", predicted_cls[0])\n",
    "\n",
    "#flatten because it gave a 2D array. Needs to be converted to 1D\n",
    "predicted_prob = cal_clf_bow_test.predict_proba(X_test_bow[test_datapoint_index]).flatten()\n",
    "\n",
    "print(\"Predicted Class Probabilities:\", predicted_prob)\n",
    "print(\"Actual Class :\", y_test[test_datapoint_index])\n",
    "\n",
    "print('*'*50)\n",
    "\n",
    "print(cal_clf_bow_test.classes_[0], predicted_prob[0])\n",
    "print(cal_clf_bow_test.classes_[1], predicted_prob[1])\n",
    "print(cal_clf_bow_test.classes_[2], predicted_prob[2])\n",
    "print(cal_clf_bow_test.classes_[3], predicted_prob[3])\n",
    "print(cal_clf_bow_test.classes_[4], predicted_prob[4])\n",
    "print(cal_clf_bow_test.classes_[5], predicted_prob[5])\n",
    "print(cal_clf_bow_test.classes_[6], predicted_prob[6])\n",
    "print(cal_clf_bow_test.classes_[7], predicted_prob[7])\n",
    "print(cal_clf_bow_test.classes_[8], predicted_prob[8])"
   ]
  },
  {
   "cell_type": "code",
   "execution_count": 50,
   "metadata": {},
   "outputs": [
    {
     "name": "stdout",
     "output_type": "stream",
     "text": [
      "\t\t Classification Report for Random Forest Classifier \n",
      "\n",
      "\t\t *** Set 1 (Bag-of-Words Encoding of Medical Text)*** \n",
      "\n",
      "                           precision    recall  f1-score   support\n",
      "\n",
      "         Gain-of-function       0.60      0.91      0.72       202\n",
      "             Inconclusive       0.82      0.48      0.61        56\n",
      "  Likely Gain-of-function       0.64      0.24      0.34        89\n",
      "  Likely Loss-of-function       0.63      0.49      0.55       120\n",
      "           Likely Neutral       0.39      0.23      0.29        40\n",
      "Likely Switch-of-function       0.00      0.00      0.00         4\n",
      "         Loss-of-function       0.61      0.75      0.67       130\n",
      "                  Neutral       0.50      0.29      0.37        17\n",
      "       Switch-of-function       1.00      1.00      1.00         6\n",
      "\n",
      "                 accuracy                           0.61       664\n",
      "                macro avg       0.58      0.49      0.51       664\n",
      "             weighted avg       0.62      0.61      0.58       664\n",
      "\n"
     ]
    },
    {
     "data": {
      "image/png": "[encoded data removed]",
      "text/plain": [
       "<Figure size 1080x720 with 2 Axes>"
      ]
     },
     "metadata": {},
     "output_type": "display_data"
    }
   ],
   "source": [
    "from sklearn.metrics import confusion_matrix \n",
    "from sklearn.metrics import accuracy_score \n",
    "from sklearn.metrics import classification_report \n",
    "\n",
    "y_predicted = cal_clf_bow_test.predict(X_test_bow)\n",
    "\n",
    "print('\\t\\t Classification Report for Random Forest Classifier \\n')\n",
    "print('\\t\\t *** Set 1 (Bag-of-Words Encoding of Medical Text)*** \\n')\n",
    "\n",
    "#lets make a confusion matrix to view our real data (y_test) and predicted data (y_predicted)\n",
    "cm = confusion_matrix(y_test, y_predicted)\n",
    "fig, ax = plt.subplots(figsize=(15,10))\n",
    "sns.heatmap(cm, annot = True, ax=ax, annot_kws={\"size\": 15})\n",
    "\n",
    "#lets make a classification report.\n",
    "print(classification_report(y_test, y_predicted))"
   ]
  },
  {
   "cell_type": "markdown",
   "metadata": {},
   "source": [
    "## 12.2. Set-2: preprocessed_medical_text (TFIDF) + categorical feature (GENE) + categorical feature (VARIATION)\n",
    "\n",
    "<a id='rfset2'></a>"
   ]
  },
  {
   "cell_type": "code",
   "execution_count": 53,
   "metadata": {},
   "outputs": [
    {
     "name": "stdout",
     "output_type": "stream",
     "text": [
      "*** Set 2 (TFIDF Encoding of Medical Text)*** \n",
      "\n",
      "***Logloss while training with Random Forest Classifier*** \n",
      "\n",
      "For 'estimator' = 5\n",
      "Log Loss : 1.5188676079006391\n",
      "For 'estimator' = 10\n",
      "Log Loss : 1.398920040221349\n",
      "For 'estimator' = 50\n",
      "Log Loss : 1.247739338174388\n",
      "For 'estimator' = 100\n",
      "Log Loss : 1.1989008151332605\n",
      "For 'estimator' = 200\n",
      "Log Loss : 1.173384764904821\n",
      "For 'estimator' = 500\n",
      "Log Loss : 1.1584756894625041\n",
      "Wall time: 1min 8s\n"
     ]
    }
   ],
   "source": [
    "%%time\n",
    "\n",
    "from sklearn.ensemble import RandomForestClassifier\n",
    "from sklearn.calibration import CalibratedClassifierCV\n",
    "from sklearn.metrics.classification import accuracy_score, log_loss\n",
    "\n",
    "estimators = [5, 10, 50, 100, 200, 500]\n",
    "\n",
    "test_log_error_array = []\n",
    "\n",
    "print('*** Set 2 (TFIDF Encoding of Medical Text)*** \\n')\n",
    "print('***Logloss while training with Random Forest Classifier*** \\n')\n",
    "\n",
    "for i in estimators:\n",
    "    print(\"For 'estimator' =\", i)\n",
    "    model_rf_tfidf = RandomForestClassifier(n_estimators=i, class_weight='balanced', max_depth=7, n_jobs=-1)\n",
    "    model_rf_tfidf.fit(X_train_tfidf, y_train)\n",
    "    \n",
    "    cal_clf_tfidf = CalibratedClassifierCV(model_rf_tfidf)\n",
    "    cal_clf_tfidf.fit(X_train_tfidf, y_train)\n",
    "    \n",
    "    cal_clf_tfidf_probs = cal_clf_tfidf.predict_proba(X_test_tfidf)\n",
    "    \n",
    "    test_log_error_array.append(log_loss(y_test, cal_clf_tfidf_probs, labels=model_rf_tfidf.classes_))\n",
    "    \n",
    "    print(\"Log Loss :\", log_loss(y_test, cal_clf_tfidf_probs))"
   ]
  },
  {
   "cell_type": "code",
   "execution_count": 55,
   "metadata": {},
   "outputs": [
    {
     "name": "stdout",
     "output_type": "stream",
     "text": [
      "*** Set 2 (TFIDF Encoding of Medical Text)*** \n",
      "\n",
      "***Logloss while testing with Random Forest Classifier*** \n",
      "\n",
      "Log Loss : 1.7226928802276962\n",
      "Wall time: 1min 17s\n"
     ]
    }
   ],
   "source": [
    "%%time\n",
    "\n",
    "best_n_estimator = 500\n",
    "\n",
    "clf_lr_tfidf = RandomForestClassifier(n_estimators=best_n_estimator, max_depth=7, class_weight='balanced')\n",
    "clf_lr_tfidf.fit(X_train_tfidf, y_train)\n",
    "\n",
    "cal_clf_tfidf_test = CalibratedClassifierCV(clf_lr_tfidf)\n",
    "cal_clf_tfidf_test.fit(X_train_tfidf, y_train)\n",
    "cal_clf_lr_tfidf_probs = clf_lr_tfidf.predict_proba(X_test_tfidf)\n",
    "\n",
    "print('*** Set 2 (TFIDF Encoding of Medical Text)*** \\n')\n",
    "print('***Logloss while testing with Random Forest Classifier*** \\n')\n",
    "\n",
    "print(\"Log Loss :\", log_loss(y_test, cal_clf_lr_tfidf_probs))"
   ]
  },
  {
   "cell_type": "code",
   "execution_count": 60,
   "metadata": {},
   "outputs": [
    {
     "name": "stdout",
     "output_type": "stream",
     "text": [
      "*** Set 2 of Random Forest (TFIDF Encoding of Medical Text)*** \n",
      "\n",
      "***Analyzing the acutal and predicted class by taking a test datapoint*** \n",
      "\n",
      "Predicted Class : Inconclusive\n",
      "Predicted Class Probabilities: [6.53567661e-04 9.44517537e-01 6.63689001e-04 4.03348163e-03\n",
      " 3.37143537e-02 4.16355830e-03 2.60375112e-04 8.97331712e-03\n",
      " 3.02012015e-03]\n",
      "Actual Class : Likely Gain-of-function\n",
      "**************************************************\n",
      "Gain-of-function 0.0006535676608901006\n",
      "Inconclusive 0.9445175373415226\n",
      "Likely Gain-of-function 0.000663689000583376\n",
      "Likely Loss-of-function 0.0040334816289371\n",
      "Likely Neutral 0.033714353687646074\n",
      "Likely Switch-of-function 0.004163558300783133\n",
      "Loss-of-function 0.00026037511172404644\n",
      "Neutral 0.008973317118927973\n",
      "Switch-of-function 0.0030201201489857446\n"
     ]
    }
   ],
   "source": [
    "print('*** Set 2 of Random Forest (TFIDF Encoding of Medical Text)*** \\n')\n",
    "print('***Analyzing the acutal and predicted class by taking a test datapoint*** \\n')\n",
    "\n",
    "test_datapoint_index = 365\n",
    "predicted_cls = cal_clf_tfidf_test.predict(X_test_tfidf[test_datapoint_index])\n",
    "\n",
    "print(\"Predicted Class :\", predicted_cls[0])\n",
    "\n",
    "#flatten because it gave a 2D array. Needs to be converted to 1D\n",
    "predicted_prob = cal_clf_tfidf_test.predict_proba(X_test_tfidf[test_datapoint_index]).flatten()\n",
    "\n",
    "print(\"Predicted Class Probabilities:\", predicted_prob)\n",
    "print(\"Actual Class :\", y_test[test_datapoint_index])\n",
    "\n",
    "print('*'*50)\n",
    "\n",
    "print(cal_clf_tfidf_test.classes_[0], predicted_prob[0])\n",
    "print(cal_clf_tfidf_test.classes_[1], predicted_prob[1])\n",
    "print(cal_clf_tfidf_test.classes_[2], predicted_prob[2])\n",
    "print(cal_clf_tfidf_test.classes_[3], predicted_prob[3])\n",
    "print(cal_clf_tfidf_test.classes_[4], predicted_prob[4])\n",
    "print(cal_clf_tfidf_test.classes_[5], predicted_prob[5])\n",
    "print(cal_clf_tfidf_test.classes_[6], predicted_prob[6])\n",
    "print(cal_clf_tfidf_test.classes_[7], predicted_prob[7])\n",
    "print(cal_clf_tfidf_test.classes_[8], predicted_prob[8])"
   ]
  },
  {
   "cell_type": "code",
   "execution_count": 61,
   "metadata": {},
   "outputs": [
    {
     "name": "stdout",
     "output_type": "stream",
     "text": [
      "\t\t Classification Report for Logistic Regression \n",
      "\n",
      "\t\t *** Set 2 (TFIDF Encoding of Medical Text)*** \n",
      "\n",
      "                           precision    recall  f1-score   support\n",
      "\n",
      "         Gain-of-function       0.61      0.95      0.75       202\n",
      "             Inconclusive       0.89      0.43      0.58        56\n",
      "  Likely Gain-of-function       0.75      0.20      0.32        89\n",
      "  Likely Loss-of-function       0.65      0.47      0.54       120\n",
      "           Likely Neutral       0.43      0.25      0.32        40\n",
      "Likely Switch-of-function       0.00      0.00      0.00         4\n",
      "         Loss-of-function       0.57      0.78      0.66       130\n",
      "                  Neutral       0.50      0.24      0.32        17\n",
      "       Switch-of-function       1.00      1.00      1.00         6\n",
      "\n",
      "                 accuracy                           0.62       664\n",
      "                macro avg       0.60      0.48      0.50       664\n",
      "             weighted avg       0.64      0.62      0.58       664\n",
      "\n"
     ]
    },
    {
     "data": {
      "image/png": "[encoded data removed]",
      "text/plain": [
       "<Figure size 1080x720 with 2 Axes>"
      ]
     },
     "metadata": {},
     "output_type": "display_data"
    }
   ],
   "source": [
    "from sklearn.metrics import confusion_matrix \n",
    "from sklearn.metrics import accuracy_score \n",
    "from sklearn.metrics import classification_report \n",
    "\n",
    "y_predicted = cal_clf_tfidf_test.predict(X_test_tfidf)\n",
    "\n",
    "print('\\t\\t Classification Report for Logistic Regression \\n')\n",
    "print('\\t\\t *** Set 2 (TFIDF Encoding of Medical Text)*** \\n')\n",
    "\n",
    "#lets make a confusion matrix to view our real data (y_test) and predicted data (y_predicted)\n",
    "cm = confusion_matrix(y_test, y_predicted)\n",
    "fig, ax = plt.subplots(figsize=(15,10))\n",
    "sns.heatmap(cm, annot = True, ax=ax, annot_kws={\"size\": 15})\n",
    "\n",
    "#lets make a classification report.\n",
    "print(classification_report(y_test, y_predicted))"
   ]
  },
  {
   "cell_type": "markdown",
   "metadata": {},
   "source": [
    "# 13. Conclusions\n",
    "<a id='con'></a>"
   ]
  },
  {
   "cell_type": "markdown",
   "metadata": {},
   "source": [
    "## Result summarization for Log-Loss  "
   ]
  },
  {
   "cell_type": "code",
   "execution_count": 31,
   "metadata": {},
   "outputs": [
    {
     "name": "stdout",
     "output_type": "stream",
     "text": [
      "+--------------------------+--------------+---------------------------------+---------------------------------+\n",
      "|        Algorithm         |   Encoding   | Minimum log-loss while training | Log-loss obtained after testing |\n",
      "+--------------------------+--------------+---------------------------------+---------------------------------+\n",
      "|       Naive Bayes        | Bag of Words |               1.26              |               1.77              |\n",
      "|       Naive Bayes        |    TF-IDF    |               1.11              |               1.24              |\n",
      "| k-NN (Nearest Neighbors) | Bag of Words |               1.21              |               2.89              |\n",
      "| k-NN (Nearest Neighbors) |    TF-IDF    |               1.12              |               2.76              |\n",
      "|   Logistic Regression    | Bag of Words |               1.15              |               1.37              |\n",
      "|   Logistic Regression    |    TF-IDF    |               0.9               |               0.89              |\n",
      "|      Random Forest       | Bag of Words |               1.21              |               1.71              |\n",
      "|      Random Forest       |    TF-IDF    |               1.15              |               1.72              |\n",
      "+--------------------------+--------------+---------------------------------+---------------------------------+\n"
     ]
    }
   ],
   "source": [
    "#http://zetcode.com/python/prettytable/\n",
    "\n",
    "from prettytable import PrettyTable\n",
    "    \n",
    "x = PrettyTable()\n",
    "\n",
    "x.field_names = [\"Algorithm\", \"Encoding\", \"Minimum log-loss while training\", \"Log-loss obtained after testing\"]\n",
    "\n",
    "x.add_row([\"Naive Bayes\", \"Bag of Words\", 1.26 , 1.77])\n",
    "x.add_row([\"Naive Bayes\", \"TF-IDF\", 1.11 , 1.24 ])\n",
    "x.add_row([\"k-NN (Nearest Neighbors)\", \"Bag of Words\", 1.21 , 2.89 ])\n",
    "x.add_row([\"k-NN (Nearest Neighbors)\", \"TF-IDF\", 1.12 , 2.76 ])\n",
    "x.add_row([\"Logistic Regression\", \"Bag of Words\", 1.15 , 1.37 ])\n",
    "x.add_row([\"Logistic Regression\", \"TF-IDF\", 0.90 , 0.89 ])\n",
    "x.add_row([\"Random Forest\", \"Bag of Words\", 1.21 , 1.71 ])\n",
    "x.add_row([\"Random Forest\", \"TF-IDF\", 1.15 , 1.72 ])\n",
    "\n",
    "print(x)"
   ]
  },
  {
   "cell_type": "markdown",
   "metadata": {},
   "source": [
    "## Result summarization for Accuracy"
   ]
  },
  {
   "cell_type": "code",
   "execution_count": 5,
   "metadata": {},
   "outputs": [
    {
     "name": "stdout",
     "output_type": "stream",
     "text": [
      "+--------------------------+--------------+-----------------+\n",
      "|        Algorithm         |   Encoding   | Accuracy (in %) |\n",
      "+--------------------------+--------------+-----------------+\n",
      "|       Naive Bayes        | Bag of Words |        63       |\n",
      "|       Naive Bayes        |    TF-IDF    |        65       |\n",
      "| k-NN (Nearest Neighbors) | Bag of Words |        58       |\n",
      "| k-NN (Nearest Neighbors) |    TF-IDF    |        62       |\n",
      "|   Logistic Regression    | Bag of Words |        62       |\n",
      "|   Logistic Regression    |    TF-IDF    |        68       |\n",
      "|      Random Forest       | Bag of Words |        61       |\n",
      "|      Random Forest       |    TF-IDF    |        62       |\n",
      "+--------------------------+--------------+-----------------+\n"
     ]
    }
   ],
   "source": [
    "#http://zetcode.com/python/prettytable/\n",
    "\n",
    "from prettytable import PrettyTable\n",
    "    \n",
    "x = PrettyTable()\n",
    "\n",
    "x.field_names = [\"Algorithm\", \"Encoding\", \"Accuracy (in %)\"]\n",
    "\n",
    "x.add_row([\"Naive Bayes\", \"Bag of Words\", 63])\n",
    "x.add_row([\"Naive Bayes\", \"TF-IDF\", 65])\n",
    "x.add_row([\"k-NN (Nearest Neighbors)\", \"Bag of Words\", 58])\n",
    "x.add_row([\"k-NN (Nearest Neighbors)\", \"TF-IDF\", 62])\n",
    "x.add_row([\"Logistic Regression\", \"Bag of Words\", 62])\n",
    "x.add_row([\"Logistic Regression\", \"TF-IDF\", 68])\n",
    "x.add_row([\"Random Forest\", \"Bag of Words\", 61])\n",
    "x.add_row([\"Random Forest\", \"TF-IDF\", 62])\n",
    "\n",
    "print(x)"
   ]
  },
  {
   "cell_type": "markdown",
   "metadata": {},
   "source": [
    "# Reference for deployment"
   ]
  },
  {
   "cell_type": "code",
   "execution_count": null,
   "metadata": {},
   "outputs": [],
   "source": []
  },
  {
   "cell_type": "code",
   "execution_count": null,
   "metadata": {},
   "outputs": [],
   "source": []
  },
  {
   "cell_type": "code",
   "execution_count": null,
   "metadata": {},
   "outputs": [],
   "source": [
    "##https://stackoverflow.com/questions/1987694/how-to-print-the-full-numpy-array-without-truncation\n",
    "##https://chrisalbon.com/python/data_wrangling/pandas_list_unique_values_in_column/\n",
    "\n",
    "final_df.Gene.unique()\n",
    "#For getting the whole array without truncating.\n",
    "\n",
    "import sys\n",
    "np.set_printoptions(threshold=sys.maxsize)\n",
    "final_df.Variation.unique()"
   ]
  },
  {
   "cell_type": "code",
   "execution_count": 4,
   "metadata": {},
   "outputs": [
    {
     "data": {
      "text/plain": [
       "(1, 2)"
      ]
     },
     "execution_count": 4,
     "metadata": {},
     "output_type": "execute_result"
    }
   ],
   "source": [
    "def add():\n",
    "    pred = 1\n",
    "    pred_prob = 2\n",
    "    prediction = (pred, pred_prob)\n",
    "    return prediction\n",
    "\n",
    "add()"
   ]
  }
 ],
 "metadata": {
  "kernelspec": {
   "display_name": "Python 3",
   "language": "python",
   "name": "python3"
  },
  "language_info": {
   "codemirror_mode": {
    "name": "ipython",
    "version": 3
   },
   "file_extension": ".py",
   "mimetype": "text/x-python",
   "name": "python",
   "nbconvert_exporter": "python",
   "pygments_lexer": "ipython3",
   "version": "3.7.3"
  }
 },
 "nbformat": 4,
 "nbformat_minor": 2
}
